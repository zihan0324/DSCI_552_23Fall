{
  "cells": [
    {
      "cell_type": "markdown",
      "metadata": {
        "id": "AuXOo53Bq8Fb"
      },
      "source": [
        "# Liu_Zihan_Final_Project"
      ]
    },
    {
      "cell_type": "markdown",
      "source": [
        "Name: Zihan Liu\n",
        "<br>\n",
        "Github Username: zihan0324\n",
        "<br>\n",
        "USC ID: 1534981630"
      ],
      "metadata": {
        "id": "B2-ev4rJjXx5"
      }
    },
    {
      "cell_type": "markdown",
      "metadata": {
        "id": "HWJv5uTqq8Fe"
      },
      "source": [
        "## Import Depedencies"
      ]
    },
    {
      "cell_type": "code",
      "execution_count": 1,
      "metadata": {
        "id": "wiJDLkD5q8Fe"
      },
      "outputs": [],
      "source": [
        "import os\n",
        "import os.path as op\n",
        "import json\n",
        "from pathlib import Path\n",
        "import shutil\n",
        "import logging\n",
        "import numpy as np\n",
        "from tqdm import tqdm\n",
        "from skimage import io\n",
        "from zipfile import ZipFile"
      ]
    },
    {
      "cell_type": "code",
      "execution_count": 2,
      "metadata": {
        "id": "nKcGqYzdq8Fg",
        "colab": {
          "base_uri": "https://localhost:8080/"
        },
        "outputId": "e9107b0c-bca4-472f-d512-0716001a5a6e"
      },
      "outputs": [
        {
          "output_type": "stream",
          "name": "stdout",
          "text": [
            "Mounted at /content/drive\n"
          ]
        }
      ],
      "source": [
        "# Logging configuration\n",
        "logging.basicConfig(level=logging.INFO,\n",
        "                    datefmt='%H:%M:%S',\n",
        "                    format='%(asctime)s | %(levelname)-5s | %(module)-15s | %(message)s')\n",
        "\n",
        "IMAGE_SIZE = (299, 299)  # All images contained in this dataset are 299x299 (originally, to match Inception v3 input size)\n",
        "SEED = 17\n",
        "\n",
        "# Head directory containing all image subframes. Update with the relative path of your data directory\n",
        "# from google.colab import drive\n",
        "# drive.mount('/content/drive')\n",
        "# data_head_dir = Path('./drive/MyDrive/Colab Notebooks/data')\n",
        "\n",
        "data_head_dir = Path('../data')\n",
        "\n",
        "# Find all subframe directories\n",
        "subdirs = [Path(subdir.stem) for subdir in data_head_dir.iterdir() if subdir.is_dir()]\n",
        "src_image_ids = ['_'.join(a_path.name.split('_')[:3]) for a_path in subdirs]"
      ]
    },
    {
      "cell_type": "code",
      "execution_count": 3,
      "metadata": {
        "id": "p7VC13QPq8Fg"
      },
      "outputs": [],
      "source": [
        "# Load train/val/test subframe IDs\n",
        "def load_text_ids(file_path):\n",
        "    \"\"\"Simple helper to load all lines from a text file\"\"\"\n",
        "    with open(file_path, 'r') as f:\n",
        "        lines = [line.strip() for line in f.readlines()]\n",
        "    return lines\n",
        "\n",
        "# Load the subframe names for the three data subsets\n",
        "# train_ids = load_text_ids('../train_source_images.txt')\n",
        "# validate_ids = load_text_ids('../val_source_images.txt')\n",
        "# test_ids = load_text_ids('../test_source_images.txt')\n",
        "\n",
        "train_ids = load_text_ids('./drive/MyDrive/Colab Notebooks/train_source_images.txt')\n",
        "validate_ids = load_text_ids('./drive/MyDrive/Colab Notebooks/val_source_images.txt')\n",
        "test_ids = load_text_ids('./drive/MyDrive/Colab Notebooks/test_source_images.txt')\n",
        "\n",
        "# Generate a list containing the dataset split for the matching subdirectory names\n",
        "subdir_splits = []\n",
        "for src_id in src_image_ids:\n",
        "    if src_id in train_ids:\n",
        "        subdir_splits.append('train')\n",
        "    elif src_id in validate_ids:\n",
        "        subdir_splits.append('validate')\n",
        "    elif(src_id in test_ids):\n",
        "        subdir_splits.append('test')\n",
        "    else:\n",
        "        logging.warning(f'{src_id}: Did not find designated split in train/validate/test list.')\n",
        "        subdir_splits.append(None)"
      ]
    },
    {
      "cell_type": "markdown",
      "metadata": {
        "id": "YiR8RQGWq8Fh"
      },
      "source": [
        "## Loading and pre processing the data"
      ]
    },
    {
      "cell_type": "markdown",
      "metadata": {
        "id": "sr9kzkeZq8Fh"
      },
      "source": [
        "### Note that there are multiple ways to preprocess and load your data in order to train your model in tensorflow. We have provided one way to do it in the following cell. Feel free to use your own method and get better results."
      ]
    },
    {
      "cell_type": "code",
      "execution_count": 4,
      "metadata": {
        "id": "A1Us5JKJq8Fi"
      },
      "outputs": [],
      "source": [
        "import random\n",
        "import tensorflow as tf\n",
        "from PIL import Image\n",
        "\n",
        "\n",
        "def load_and_preprocess(img_loc, label):\n",
        "\n",
        "    def _inner_function(img_loc, label):\n",
        "\n",
        "        # Convert tensor to native type\n",
        "        img_loc_str = img_loc.numpy().decode('utf-8')\n",
        "        label_str = label.numpy().decode('utf-8')\n",
        "\n",
        "        img = Image.open(img_loc_str).convert('RGB')\n",
        "\n",
        "        # Convert PTL image into numpy array\n",
        "        img = np.array(img)\n",
        "        img = tf.image.resize(img, [299, 299])\n",
        "\n",
        "        # Normaliza the image to the [0, 1] range\n",
        "        img = img / 255.0\n",
        "\n",
        "        return img, 1 if label_str=='frost' else 0\n",
        "\n",
        "    # Wrap the Python function\n",
        "    X, y = tf.py_function(_inner_function, [img_loc, label], [tf.float32, tf.int64])\n",
        "\n",
        "    # Set the shape of the tensors\n",
        "    X.set_shape([299, 299, 3])\n",
        "    y.set_shape([])\n",
        "\n",
        "    return X, y\n",
        "\n",
        "def load_subdir_data(dir_path, image_size, seed=None):\n",
        "\n",
        "    \"\"\"Helper to create a TF dataset from each image subdirectory\"\"\"\n",
        "\n",
        "    # Grab only the classes that (1) we want to keep and (2) exist in this directory\n",
        "    tile_dir = dir_path / Path('tiles')\n",
        "    label_dir = dir_path /Path('labels')\n",
        "\n",
        "    loc_list = []\n",
        "\n",
        "    for folder in os.listdir(tile_dir):\n",
        "        if os.path.isdir(os.path.join(tile_dir, folder)):\n",
        "            for file in os.listdir(os.path.join(tile_dir, folder)):\n",
        "                if file.endswith(\".png\"):\n",
        "                    loc_list.append((os.path.join(os.path.join(tile_dir, folder), file), folder))\n",
        "\n",
        "    return loc_list\n",
        "\n",
        "# Loop over all subframes, loading each into a list\n",
        "tf_data_train, tf_data_test, tf_data_val = [], [], []\n",
        "tf_dataset_train, tf_dataset_test, tf_dataset_val = [], [], []\n",
        "\n",
        "# Update the batch and buffer size as per your model requirements\n",
        "buffer_size = 128\n",
        "batch_size = 64\n",
        "\n",
        "for subdir, split in zip(subdirs, subdir_splits):\n",
        "    full_path = data_head_dir / subdir\n",
        "    if split=='validate':\n",
        "        tf_data_val.extend(load_subdir_data(full_path, IMAGE_SIZE, SEED))\n",
        "    elif split=='train':\n",
        "        tf_data_train.extend(load_subdir_data(full_path, IMAGE_SIZE, SEED))\n",
        "    elif split=='test':\n",
        "        tf_data_test.extend(load_subdir_data(full_path, IMAGE_SIZE, SEED))\n",
        "\n",
        "random.shuffle(tf_data_train)\n",
        "img_list, label_list = zip(*tf_data_train)\n",
        "img_list_t = tf.convert_to_tensor(img_list)\n",
        "lb_list_t = tf.convert_to_tensor(label_list)\n",
        "\n",
        "tf_dataset_train = tf.data.Dataset.from_tensor_slices((img_list_t, lb_list_t))\n",
        "tf_dataset_train = tf_dataset_train.map(load_and_preprocess, num_parallel_calls=tf.data.experimental.AUTOTUNE)\n",
        "tf_dataset_train = tf_dataset_train.shuffle(buffer_size=buffer_size).batch(batch_size)\n",
        "\n",
        "random.shuffle(tf_data_val)\n",
        "img_list, label_list = zip(*tf_data_val)\n",
        "img_list_t = tf.convert_to_tensor(img_list)\n",
        "lb_list_t = tf.convert_to_tensor(label_list)\n",
        "\n",
        "tf_dataset_val = tf.data.Dataset.from_tensor_slices((img_list_t, lb_list_t))\n",
        "tf_dataset_val = tf_dataset_val.map(load_and_preprocess, num_parallel_calls=tf.data.experimental.AUTOTUNE)\n",
        "tf_dataset_val = tf_dataset_val.shuffle(buffer_size=buffer_size).batch(batch_size)\n",
        "\n",
        "random.shuffle(tf_data_test)\n",
        "img_list, label_list = zip(*tf_data_test)\n",
        "img_list_t = tf.convert_to_tensor(img_list)\n",
        "lb_list_t = tf.convert_to_tensor(label_list)\n",
        "\n",
        "tf_dataset_test = tf.data.Dataset.from_tensor_slices((img_list_t, lb_list_t))\n",
        "tf_dataset_test = tf_dataset_test.map(load_and_preprocess, num_parallel_calls=tf.data.experimental.AUTOTUNE)\n",
        "tf_dataset_test = tf_dataset_test.shuffle(buffer_size=buffer_size).batch(batch_size)"
      ]
    },
    {
      "cell_type": "markdown",
      "metadata": {
        "id": "jxXw5ac-q8Fj"
      },
      "source": [
        "## CNN + MLP"
      ]
    },
    {
      "cell_type": "code",
      "execution_count": 5,
      "metadata": {
        "id": "ln2kyu5uq8Fk"
      },
      "outputs": [],
      "source": [
        "from tensorflow.keras.layers import Conv2D, BatchNormalization, MaxPooling2D, Flatten, Dense, Activation, Dropout\n",
        "from tensorflow.keras.layers.experimental.preprocessing import RandomFlip, RandomRotation, RandomZoom, RandomCrop, RandomContrast, RandomTranslation\n",
        "from tensorflow.keras.models import Sequential\n",
        "from tensorflow.keras.optimizers import Adam\n",
        "from tensorflow.keras.regularizers import l2\n",
        "from tensorflow.keras.callbacks import ModelCheckpoint, EarlyStopping\n",
        "from tensorflow.keras.models import load_model\n",
        "import matplotlib.pyplot as plt"
      ]
    },
    {
      "cell_type": "markdown",
      "metadata": {
        "id": "66CzXogIq8Fk"
      },
      "source": [
        "### Data Augmentation"
      ]
    },
    {
      "cell_type": "code",
      "execution_count": 6,
      "metadata": {
        "id": "TucX8TfXq8Fl"
      },
      "outputs": [],
      "source": [
        "# Function to apply the data augmentation to a single image\n",
        "def data_augmentation(image, label):\n",
        "    # Data augmentation operations\n",
        "    image = tf.image.random_flip_left_right(image)\n",
        "    image = tf.image.random_flip_up_down(image)\n",
        "    image = tf.image.random_brightness(image, max_delta=0.1) # Random brightness\n",
        "    image = tf.image.random_contrast(image, lower=0.8, upper=1.2) # Random contrast\n",
        "    image = tf.image.random_saturation(image, lower=0.8, upper=1.2) # Random saturation\n",
        "    image = tf.image.random_hue(image, max_delta=0.1) # Random hue\n",
        "    return image, label\n",
        "\n",
        "# Apply the data augmentation to the training dataset\n",
        "tf_dataset_train = tf_dataset_train.map(data_augmentation)\n"
      ]
    },
    {
      "cell_type": "markdown",
      "metadata": {
        "id": "kIPpaKGDq8Fl"
      },
      "source": [
        "### Construct Model"
      ]
    },
    {
      "cell_type": "code",
      "execution_count": 7,
      "metadata": {
        "id": "LaVa8fCkq8Fl"
      },
      "outputs": [],
      "source": [
        "# Define the model\n",
        "model = tf.keras.Sequential([\n",
        "    Conv2D(32, kernel_size=(3, 3), activation='relu', input_shape=(299, 299, 3)),\n",
        "    BatchNormalization(),\n",
        "    MaxPooling2D(pool_size=(2, 2)),\n",
        "\n",
        "    Conv2D(64, kernel_size=(3, 3), activation='relu'),\n",
        "    BatchNormalization(),\n",
        "    MaxPooling2D(pool_size=(2, 2)),\n",
        "\n",
        "    Conv2D(128, kernel_size=(3, 3), activation='relu'),\n",
        "    BatchNormalization(),\n",
        "    MaxPooling2D(pool_size=(2, 2)),\n",
        "\n",
        "    Flatten(),\n",
        "    Dense(32, activation='relu', kernel_regularizer=l2(0.01)),\n",
        "    Dropout(0.3),\n",
        "    BatchNormalization(),\n",
        "    Dense(2, activation='softmax')\n",
        "])"
      ]
    },
    {
      "cell_type": "code",
      "execution_count": 8,
      "metadata": {
        "id": "nj_Zl80Pq8Fm"
      },
      "outputs": [],
      "source": [
        "# Compile the model\n",
        "model.compile(optimizer=Adam(learning_rate=1e-5),\\\n",
        "              loss=tf.keras.losses.SparseCategoricalCrossentropy(),\\\n",
        "              metrics=['accuracy'])"
      ]
    },
    {
      "cell_type": "markdown",
      "metadata": {
        "id": "I5xeJGEeq8Fm"
      },
      "source": [
        "### Train Model"
      ]
    },
    {
      "cell_type": "code",
      "execution_count": null,
      "metadata": {
        "id": "0vgTZ3lbq8Fm",
        "outputId": "ba19791b-1151-491e-e4f1-ea023eba2648",
        "colab": {
          "base_uri": "https://localhost:8080/"
        }
      },
      "outputs": [
        {
          "output_type": "stream",
          "name": "stdout",
          "text": [
            "Epoch 1/20\n",
            "277/277 [==============================] - ETA: 0s - loss: 1.1927 - accuracy: 0.7393\n",
            "Epoch 1: val_loss improved from inf to 1.26941, saving model to ./drive/MyDrive/Colab Notebooks/models/best_mlp_model.h5\n"
          ]
        },
        {
          "output_type": "stream",
          "name": "stderr",
          "text": [
            "/usr/local/lib/python3.10/dist-packages/keras/src/engine/training.py:3079: UserWarning: You are saving your model as an HDF5 file via `model.save()`. This file format is considered legacy. We recommend using instead the native Keras format, e.g. `model.save('my_model.keras')`.\n",
            "  saving_api.save_model(\n"
          ]
        },
        {
          "output_type": "stream",
          "name": "stdout",
          "text": [
            "\b\b\b\b\b\b\b\b\b\b\b\b\b\b\b\b\b\b\b\b\b\b\b\b\b\b\b\b\b\b\b\b\b\b\b\b\b\b\b\b\b\b\b\b\b\b\b\b\b\b\b\b\b\b\b\b\b\b\b\b\b\b\b\b\b\b\b\b\b\b\b\b\b\b\b\b\b\b\b\b\b\b\b\b\r277/277 [==============================] - 245s 864ms/step - loss: 1.1927 - accuracy: 0.7393 - val_loss: 1.2694 - val_accuracy: 0.7505\n",
            "Epoch 2/20\n",
            "277/277 [==============================] - ETA: 0s - loss: 1.0200 - accuracy: 0.8116\n",
            "Epoch 2: val_loss did not improve from 1.26941\n",
            "277/277 [==============================] - 239s 860ms/step - loss: 1.0200 - accuracy: 0.8116 - val_loss: 1.6957 - val_accuracy: 0.7852\n",
            "Epoch 3/20\n",
            "277/277 [==============================] - ETA: 0s - loss: 0.9328 - accuracy: 0.8402\n",
            "Epoch 3: val_loss improved from 1.26941 to 0.87597, saving model to ./drive/MyDrive/Colab Notebooks/models/best_mlp_model.h5\n",
            "277/277 [==============================] - 239s 860ms/step - loss: 0.9328 - accuracy: 0.8402 - val_loss: 0.8760 - val_accuracy: 0.9050\n",
            "Epoch 4/20\n",
            "277/277 [==============================] - ETA: 0s - loss: 0.8490 - accuracy: 0.8720\n",
            "Epoch 4: val_loss improved from 0.87597 to 0.78571, saving model to ./drive/MyDrive/Colab Notebooks/models/best_mlp_model.h5\n",
            "277/277 [==============================] - 239s 861ms/step - loss: 0.8490 - accuracy: 0.8720 - val_loss: 0.7857 - val_accuracy: 0.8891\n",
            "Epoch 5/20\n",
            "277/277 [==============================] - ETA: 0s - loss: 0.7974 - accuracy: 0.8909\n",
            "Epoch 5: val_loss improved from 0.78571 to 0.74045, saving model to ./drive/MyDrive/Colab Notebooks/models/best_mlp_model.h5\n",
            "277/277 [==============================] - 239s 860ms/step - loss: 0.7974 - accuracy: 0.8909 - val_loss: 0.7405 - val_accuracy: 0.9163\n",
            "Epoch 6/20\n",
            "277/277 [==============================] - ETA: 0s - loss: 0.7539 - accuracy: 0.9033\n",
            "Epoch 6: val_loss did not improve from 0.74045\n",
            "277/277 [==============================] - 236s 852ms/step - loss: 0.7539 - accuracy: 0.9033 - val_loss: 0.8047 - val_accuracy: 0.8610\n",
            "Epoch 7/20\n",
            "277/277 [==============================] - ETA: 0s - loss: 0.7108 - accuracy: 0.9186\n",
            "Epoch 7: val_loss did not improve from 0.74045\n",
            "277/277 [==============================] - 239s 863ms/step - loss: 0.7108 - accuracy: 0.9186 - val_loss: 0.8227 - val_accuracy: 0.8493\n",
            "Epoch 8/20\n",
            "277/277 [==============================] - ETA: 0s - loss: 0.6777 - accuracy: 0.9263\n",
            "Epoch 8: val_loss improved from 0.74045 to 0.70513, saving model to ./drive/MyDrive/Colab Notebooks/models/best_mlp_model.h5\n",
            "277/277 [==============================] - 239s 862ms/step - loss: 0.6777 - accuracy: 0.9263 - val_loss: 0.7051 - val_accuracy: 0.9029\n",
            "Epoch 9/20\n",
            "277/277 [==============================] - ETA: 0s - loss: 0.6497 - accuracy: 0.9309\n",
            "Epoch 9: val_loss improved from 0.70513 to 0.65347, saving model to ./drive/MyDrive/Colab Notebooks/models/best_mlp_model.h5\n",
            "277/277 [==============================] - 240s 865ms/step - loss: 0.6497 - accuracy: 0.9309 - val_loss: 0.6535 - val_accuracy: 0.9075\n",
            "Epoch 10/20\n",
            "277/277 [==============================] - ETA: 0s - loss: 0.6185 - accuracy: 0.9397\n",
            "Epoch 10: val_loss improved from 0.65347 to 0.62613, saving model to ./drive/MyDrive/Colab Notebooks/models/best_mlp_model.h5\n",
            "277/277 [==============================] - 237s 855ms/step - loss: 0.6185 - accuracy: 0.9397 - val_loss: 0.6261 - val_accuracy: 0.9259\n",
            "Epoch 11/20\n",
            "277/277 [==============================] - ETA: 0s - loss: 0.5897 - accuracy: 0.9475\n",
            "Epoch 11: val_loss did not improve from 0.62613\n",
            "277/277 [==============================] - 238s 859ms/step - loss: 0.5897 - accuracy: 0.9475 - val_loss: 0.8054 - val_accuracy: 0.8726\n",
            "Epoch 12/20\n",
            "277/277 [==============================] - ETA: 0s - loss: 0.5627 - accuracy: 0.9509\n",
            "Epoch 12: val_loss did not improve from 0.62613\n",
            "277/277 [==============================] - 238s 857ms/step - loss: 0.5627 - accuracy: 0.9509 - val_loss: 0.6945 - val_accuracy: 0.8906\n",
            "Epoch 13/20\n",
            "277/277 [==============================] - ETA: 0s - loss: 0.5417 - accuracy: 0.9528\n",
            "Epoch 13: val_loss improved from 0.62613 to 0.57639, saving model to ./drive/MyDrive/Colab Notebooks/models/best_mlp_model.h5\n",
            "277/277 [==============================] - 239s 862ms/step - loss: 0.5417 - accuracy: 0.9528 - val_loss: 0.5764 - val_accuracy: 0.9254\n",
            "Epoch 14/20\n",
            "277/277 [==============================] - ETA: 0s - loss: 0.5201 - accuracy: 0.9549\n",
            "Epoch 14: val_loss did not improve from 0.57639\n",
            "277/277 [==============================] - 238s 857ms/step - loss: 0.5201 - accuracy: 0.9549 - val_loss: 0.6649 - val_accuracy: 0.8848\n",
            "Epoch 15/20\n",
            "277/277 [==============================] - ETA: 0s - loss: 0.4987 - accuracy: 0.9569\n",
            "Epoch 15: val_loss did not improve from 0.57639\n",
            "277/277 [==============================] - 238s 859ms/step - loss: 0.4987 - accuracy: 0.9569 - val_loss: 0.6184 - val_accuracy: 0.9009\n",
            "Epoch 16/20\n",
            "277/277 [==============================] - ETA: 0s - loss: 0.4795 - accuracy: 0.9588\n",
            "Epoch 16: val_loss did not improve from 0.57639\n",
            "277/277 [==============================] - 239s 862ms/step - loss: 0.4795 - accuracy: 0.9588 - val_loss: 0.6371 - val_accuracy: 0.8786\n",
            "Epoch 17/20\n",
            "277/277 [==============================] - ETA: 0s - loss: 0.4542 - accuracy: 0.9639\n",
            "Epoch 17: val_loss did not improve from 0.57639\n",
            "277/277 [==============================] - 240s 865ms/step - loss: 0.4542 - accuracy: 0.9639 - val_loss: 0.6647 - val_accuracy: 0.8903\n",
            "Epoch 18/20\n",
            "277/277 [==============================] - ETA: 0s - loss: 0.4388 - accuracy: 0.9636\n",
            "Epoch 18: val_loss improved from 0.57639 to 0.53236, saving model to ./drive/MyDrive/Colab Notebooks/models/best_mlp_model.h5\n",
            "277/277 [==============================] - 242s 871ms/step - loss: 0.4388 - accuracy: 0.9636 - val_loss: 0.5324 - val_accuracy: 0.9207\n",
            "Epoch 19/20\n",
            "277/277 [==============================] - ETA: 0s - loss: 0.4197 - accuracy: 0.9663\n",
            "Epoch 19: val_loss did not improve from 0.53236\n",
            "277/277 [==============================] - 240s 865ms/step - loss: 0.4197 - accuracy: 0.9663 - val_loss: 0.6870 - val_accuracy: 0.8274\n",
            "Epoch 20/20\n",
            "277/277 [==============================] - ETA: 0s - loss: 0.3983 - accuracy: 0.9702\n",
            "Epoch 20: val_loss improved from 0.53236 to 0.50992, saving model to ./drive/MyDrive/Colab Notebooks/models/best_mlp_model.h5\n",
            "277/277 [==============================] - 239s 863ms/step - loss: 0.3983 - accuracy: 0.9702 - val_loss: 0.5099 - val_accuracy: 0.9002\n"
          ]
        }
      ],
      "source": [
        "# Callback for early stopping\n",
        "early_stopping = EarlyStopping(monitor='val_loss', patience=10, restore_best_weights=True)\n",
        "\n",
        "# ModelCheckpoint to save the best model\n",
        "mlp_model_dir = '../models/best_mlp_model.h5'\n",
        "# mlp_model_dir = './drive/MyDrive/Colab Notebooks/models/best_mlp_model.h5'\n",
        "checkpoint = ModelCheckpoint(mlp_model_dir,\n",
        "                             monitor='val_loss',\n",
        "                             verbose=1,\n",
        "                             save_best_only=True,\n",
        "                             mode='min')\n",
        "\n",
        "# Train the model\n",
        "with tf.device('/device:GPU:0'):\n",
        "    history = model.fit(\n",
        "        tf_dataset_train,\n",
        "        epochs=20,\n",
        "        validation_data=tf_dataset_val,\n",
        "        callbacks=[checkpoint, early_stopping]\n",
        "    )\n",
        "# history = model.fit(\n",
        "#     tf_dataset_train,\n",
        "#     epochs=20,\n",
        "#     validation_data=tf_dataset_val,\n",
        "#     callbacks=[checkpoint, early_stopping]\n",
        "# )"
      ]
    },
    {
      "cell_type": "code",
      "source": [
        "# Plot the training and validation loss\n",
        "plt.figure(figsize=(12, 5))\n",
        "plt.subplot(1, 2, 1)\n",
        "plt.plot(history.history['loss'], label='Training Loss')\n",
        "plt.plot(history.history['val_loss'], label='Validation Loss')\n",
        "plt.title('Training and Validation Loss')\n",
        "plt.legend()\n",
        "\n",
        "# Plot the training and validation accuracy\n",
        "plt.subplot(1, 2, 2)\n",
        "plt.plot(history.history['accuracy'], label='Training Accuracy')\n",
        "plt.plot(history.history['val_accuracy'], label='Validation Accuracy')\n",
        "plt.title('Training and Validation Accuracy')\n",
        "plt.legend()\n",
        "\n",
        "plt.show()"
      ],
      "metadata": {
        "id": "RjScCYmZW1Rg",
        "colab": {
          "base_uri": "https://localhost:8080/",
          "height": 468
        },
        "outputId": "a19f1f3d-6856-485f-831e-48fecde39b93"
      },
      "execution_count": null,
      "outputs": [
        {
          "output_type": "display_data",
          "data": {
            "text/plain": [
              "<Figure size 1200x500 with 2 Axes>"
            ],
            "image/png": "[encoded data removed]"
          },
          "metadata": {}
        }
      ]
    },
    {
      "cell_type": "markdown",
      "source": [
        "## Evaluate Model"
      ],
      "metadata": {
        "id": "-XBBOPnmwmlX"
      }
    },
    {
      "cell_type": "code",
      "source": [
        "# Print model evaluation\n",
        "print(\"Training Set:\")\n",
        "training_loss, training_accuracy = model.evaluate(tf_dataset_train)\n",
        "print(f\"Loss:{training_loss}, Accuracy: {training_accuracy}\")\n",
        "print(\"Validation Set:\")\n",
        "val_loss, val_accuracy = model.evaluate(tf_dataset_val)\n",
        "print(f\"Loss:{val_loss}, Accuracy: {val_accuracy}\")\n",
        "print(\"ZTest Set:\")\n",
        "test_loss, test_accuracy = model.evaluate(tf_dataset_test)\n",
        "print(f\"Loss:{test_loss}, Accuracy: {test_accuracy}\")"
      ],
      "metadata": {
        "id": "7VfesQ02jJhG",
        "colab": {
          "base_uri": "https://localhost:8080/"
        },
        "outputId": "9a500aec-e2e4-4c11-c82e-9ea49633c500"
      },
      "execution_count": 12,
      "outputs": [
        {
          "output_type": "stream",
          "name": "stdout",
          "text": [
            "Training Set:\n",
            "277/277 [==============================] - 174s 625ms/step - loss: 1.3329 - accuracy: 0.4740\n",
            "Loss:1.3328726291656494, Accuracy: 0.4740200936794281\n",
            "Validation Set:\n",
            "95/95 [==============================] - 24s 244ms/step - loss: 1.3309 - accuracy: 0.6347\n",
            "Loss:1.3309191465377808, Accuracy: 0.6346790194511414\n",
            "ZTest Set:\n",
            "124/124 [==============================] - 31s 245ms/step - loss: 1.3333 - accuracy: 0.4670\n",
            "Loss:1.3333077430725098, Accuracy: 0.46700507402420044\n"
          ]
        }
      ]
    },
    {
      "cell_type": "code",
      "source": [
        "import pandas as pd\n",
        "from sklearn.metrics import classification_report\n",
        "\n",
        "def report_pred_results(model, dataset):\n",
        "    y_pred = np.argmax(model.predict(dataset), axis=1)\n",
        "\n",
        "    y_actual = np.concatenate([y for x, y in dataset], axis=0)\n",
        "\n",
        "    print(classification_report(y_actual, y_pred, target_names=['Background', 'Frost']))\n",
        "\n",
        "# model = load_model('../models/best_mlp_model.h5')\n",
        "# model = load_model('./drive/MyDrive/Colab Notebooks/models/best_mlp_model.h5')\n",
        "print(\"Training Set:\")\n",
        "report_pred_results(model, tf_dataset_train)\n",
        "print(\"Validation Set:\")\n",
        "report_pred_results(model, tf_dataset_val)\n",
        "print(\"Test Set:\")\n",
        "report_pred_results(model, tf_dataset_test)"
      ],
      "metadata": {
        "id": "2j6P2ti4b-I7",
        "colab": {
          "base_uri": "https://localhost:8080/"
        },
        "outputId": "7940fcd9-4160-4886-9945-b8eb1ad9920b"
      },
      "execution_count": 10,
      "outputs": [
        {
          "output_type": "stream",
          "name": "stdout",
          "text": [
            "Training Set:\n",
            "277/277 [==============================] - 167s 602ms/step\n",
            "              precision    recall  f1-score   support\n",
            "\n",
            "  Background       0.40      0.79      0.53      7047\n",
            "       Frost       0.59      0.21      0.31     10659\n",
            "\n",
            "    accuracy                           0.44     17706\n",
            "   macro avg       0.49      0.50      0.42     17706\n",
            "weighted avg       0.51      0.44      0.39     17706\n",
            "\n",
            "Validation Set:\n",
            "95/95 [==============================] - 516s 5s/step\n",
            "              precision    recall  f1-score   support\n",
            "\n",
            "  Background       0.64      0.76      0.70      3890\n",
            "       Frost       0.34      0.22      0.27      2154\n",
            "\n",
            "    accuracy                           0.57      6044\n",
            "   macro avg       0.49      0.49      0.48      6044\n",
            "weighted avg       0.53      0.57      0.54      6044\n",
            "\n",
            "Test Set:\n",
            "124/124 [==============================] - 725s 6s/step\n",
            "              precision    recall  f1-score   support\n",
            "\n",
            "  Background       0.39      0.82      0.52      3012\n",
            "       Frost       0.63      0.19      0.29      4868\n",
            "\n",
            "    accuracy                           0.43      7880\n",
            "   macro avg       0.51      0.51      0.41      7880\n",
            "weighted avg       0.54      0.43      0.38      7880\n",
            "\n"
          ]
        }
      ]
    }
  ],
  "metadata": {
    "kernelspec": {
      "display_name": "Python 3",
      "name": "python3"
    },
    "language_info": {
      "codemirror_mode": {
        "name": "ipython",
        "version": 3
      },
      "file_extension": ".py",
      "mimetype": "text/x-python",
      "name": "python",
      "nbconvert_exporter": "python",
      "pygments_lexer": "ipython3",
      "version": "3.7.3"
    },
    "toc": {
      "base_numbering": 1,
      "nav_menu": {},
      "number_sections": true,
      "sideBar": true,
      "skip_h1_title": false,
      "title_cell": "Table of Contents",
      "title_sidebar": "Contents",
      "toc_cell": false,
      "toc_position": {},
      "toc_section_display": true,
      "toc_window_display": false
    },
    "colab": {
      "provenance": [],
      "gpuType": "T4",
      "machine_shape": "hm"
    },
    "accelerator": "GPU"
  },
  "nbformat": 4,
  "nbformat_minor": 0
}