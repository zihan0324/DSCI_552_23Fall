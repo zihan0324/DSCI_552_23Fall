{
  "cells": [
    {
      "cell_type": "markdown",
      "metadata": {
        "id": "AuXOo53Bq8Fb"
      },
      "source": [
        "# Liu_Zihan_Final_Project"
      ]
    },
    {
      "cell_type": "markdown",
      "metadata": {
        "id": "6mdhXwZ_BdxV"
      },
      "source": [
        "Name: Zihan Liu\n",
        "<br>\n",
        "Github Username: zihan0324\n",
        "<br>\n",
        "USC ID: 1534981630"
      ]
    },
    {
      "cell_type": "markdown",
      "metadata": {
        "id": "HWJv5uTqq8Fe"
      },
      "source": [
        "## Import Depedencies"
      ]
    },
    {
      "cell_type": "code",
      "execution_count": 1,
      "metadata": {
        "id": "wiJDLkD5q8Fe"
      },
      "outputs": [],
      "source": [
        "import os\n",
        "import os.path as op\n",
        "import json\n",
        "from pathlib import Path\n",
        "import shutil\n",
        "import logging\n",
        "import numpy as np\n",
        "from tqdm import tqdm\n",
        "from skimage import io\n"
      ]
    },
    {
      "cell_type": "code",
      "execution_count": 2,
      "metadata": {
        "colab": {
          "base_uri": "https://localhost:8080/"
        },
        "id": "nKcGqYzdq8Fg",
        "outputId": "f1f92a41-57fd-45a3-b96a-c58b31bf66a6"
      },
      "outputs": [
        {
          "name": "stdout",
          "output_type": "stream",
          "text": [
            "Mounted at /content/drive\n"
          ]
        }
      ],
      "source": [
        "# Logging configuration\n",
        "logging.basicConfig(level=logging.INFO,\n",
        "                    datefmt='%H:%M:%S',\n",
        "                    format='%(asctime)s | %(levelname)-5s | %(module)-15s | %(message)s')\n",
        "\n",
        "IMAGE_SIZE = (299, 299)  # All images contained in this dataset are 299x299 (originally, to match Inception v3 input size)\n",
        "SEED = 17\n",
        "\n",
        "# from google.colab import drive\n",
        "# drive.mount('/content/drive')\n",
        "# Head directory containing all image subframes. Update with the relative path of your data directory\n",
        "data_head_dir = Path('./drive/MyDrive/Colab Notebooks/data')\n",
        "\n",
        "# Find all subframe directories\n",
        "subdirs = [Path(subdir.stem) for subdir in data_head_dir.iterdir() if subdir.is_dir()]\n",
        "src_image_ids = ['_'.join(a_path.name.split('_')[:3]) for a_path in subdirs]"
      ]
    },
    {
      "cell_type": "code",
      "execution_count": 3,
      "metadata": {
        "id": "p7VC13QPq8Fg"
      },
      "outputs": [],
      "source": [
        "# Load train/val/test subframe IDs\n",
        "def load_text_ids(file_path):\n",
        "    \"\"\"Simple helper to load all lines from a text file\"\"\"\n",
        "    with open(file_path, 'r') as f:\n",
        "        lines = [line.strip() for line in f.readlines()]\n",
        "    return lines\n",
        "\n",
        "# Load the subframe names for the three data subsets\n",
        "# train_ids = load_text_ids('./drive/MyDrive/Colab Notebooks/train_source_images.txt')\n",
        "# validate_ids = load_text_ids('./drive/MyDrive/Colab Notebooks/val_source_images.txt')\n",
        "# test_ids = load_text_ids('./drive/MyDrive/Colab Notebooks/test_source_images.txt')\n",
        "\n",
        "# Generate a list containing the dataset split for the matching subdirectory names\n",
        "subdir_splits = []\n",
        "for src_id in src_image_ids:\n",
        "    if src_id in train_ids:\n",
        "        subdir_splits.append('train')\n",
        "    elif src_id in validate_ids:\n",
        "        subdir_splits.append('validate')\n",
        "    elif(src_id in test_ids):\n",
        "        subdir_splits.append('test')\n",
        "    else:\n",
        "        logging.warning(f'{src_id}: Did not find designated split in train/validate/test list.')\n",
        "        subdir_splits.append(None)"
      ]
    },
    {
      "cell_type": "markdown",
      "metadata": {
        "id": "YiR8RQGWq8Fh"
      },
      "source": [
        "## Loading and pre processing the data"
      ]
    },
    {
      "cell_type": "markdown",
      "metadata": {
        "id": "sr9kzkeZq8Fh"
      },
      "source": [
        "### Note that there are multiple ways to preprocess and load your data in order to train your model in tensorflow. We have provided one way to do it in the following cell. Feel free to use your own method and get better results."
      ]
    },
    {
      "cell_type": "code",
      "execution_count": 4,
      "metadata": {
        "id": "A1Us5JKJq8Fi"
      },
      "outputs": [],
      "source": [
        "import random\n",
        "import tensorflow as tf\n",
        "from PIL import Image\n",
        "\n",
        "\n",
        "def load_and_preprocess(img_loc, label):\n",
        "\n",
        "    def _inner_function(img_loc, label):\n",
        "\n",
        "        # Convert tensor to native type\n",
        "        img_loc_str = img_loc.numpy().decode('utf-8')\n",
        "        label_str = label.numpy().decode('utf-8')\n",
        "\n",
        "        img = Image.open(img_loc_str).convert('RGB')\n",
        "\n",
        "        return img, 1 if label_str=='frost' else 0\n",
        "\n",
        "    # Wrap the Python function\n",
        "    X, y = tf.py_function(_inner_function, [img_loc, label], [tf.float32, tf.int64])\n",
        "\n",
        "    # Set the shape of the tensors\n",
        "    X.set_shape([299, 299, 3])\n",
        "    y.set_shape([])\n",
        "\n",
        "    return X, y\n",
        "\n",
        "def load_subdir_data(dir_path, image_size, seed=None):\n",
        "\n",
        "    \"\"\"Helper to create a TF dataset from each image subdirectory\"\"\"\n",
        "\n",
        "    # Grab only the classes that (1) we want to keep and (2) exist in this directory\n",
        "    tile_dir = dir_path / Path('tiles')\n",
        "    label_dir = dir_path /Path('labels')\n",
        "\n",
        "    loc_list = []\n",
        "\n",
        "    for folder in os.listdir(tile_dir):\n",
        "        if os.path.isdir(os.path.join(tile_dir, folder)):\n",
        "            for file in os.listdir(os.path.join(tile_dir, folder)):\n",
        "                if file.endswith(\".png\"):\n",
        "                    loc_list.append((os.path.join(os.path.join(tile_dir, folder), file), folder))\n",
        "\n",
        "    return loc_list\n",
        "\n",
        "# Loop over all subframes, loading each into a list\n",
        "tf_data_train, tf_data_test, tf_data_val = [], [], []\n",
        "tf_dataset_train, tf_dataset_test, tf_dataset_val = [], [], []\n",
        "\n",
        "# Update the batch and buffer size as per your model requirements\n",
        "buffer_size = 64\n",
        "batch_size = 8\n",
        "\n",
        "for subdir, split in zip(subdirs, subdir_splits):\n",
        "    full_path = data_head_dir / subdir\n",
        "    if split=='validate':\n",
        "        tf_data_val.extend(load_subdir_data(full_path, IMAGE_SIZE, SEED))\n",
        "    elif split=='train':\n",
        "        tf_data_train.extend(load_subdir_data(full_path, IMAGE_SIZE, SEED))\n",
        "    elif split=='test':\n",
        "        tf_data_test.extend(load_subdir_data(full_path, IMAGE_SIZE, SEED))\n",
        "\n",
        "random.shuffle(tf_data_train)\n",
        "img_list, label_list = zip(*tf_data_train)\n",
        "img_list_t = tf.convert_to_tensor(img_list)\n",
        "lb_list_t = tf.convert_to_tensor(label_list)\n",
        "\n",
        "tf_dataset_train = tf.data.Dataset.from_tensor_slices((img_list_t, lb_list_t))\n",
        "tf_dataset_train = tf_dataset_train.map(load_and_preprocess, num_parallel_calls=tf.data.experimental.AUTOTUNE)\n",
        "tf_dataset_train = tf_dataset_train.shuffle(buffer_size=buffer_size).batch(batch_size)\n",
        "\n",
        "random.shuffle(tf_data_val)\n",
        "img_list, label_list = zip(*tf_data_val)\n",
        "img_list_t = tf.convert_to_tensor(img_list)\n",
        "lb_list_t = tf.convert_to_tensor(label_list)\n",
        "\n",
        "tf_dataset_val = tf.data.Dataset.from_tensor_slices((img_list_t, lb_list_t))\n",
        "tf_dataset_val = tf_dataset_val.map(load_and_preprocess, num_parallel_calls=tf.data.experimental.AUTOTUNE)\n",
        "tf_dataset_val = tf_dataset_val.shuffle(buffer_size=buffer_size).batch(batch_size)\n",
        "\n",
        "random.shuffle(tf_data_test)\n",
        "img_list, label_list = zip(*tf_data_test)\n",
        "img_list_t = tf.convert_to_tensor(img_list)\n",
        "lb_list_t = tf.convert_to_tensor(label_list)\n",
        "\n",
        "tf_dataset_test = tf.data.Dataset.from_tensor_slices((img_list_t, lb_list_t))\n",
        "tf_dataset_test = tf_dataset_test.map(load_and_preprocess, num_parallel_calls=tf.data.experimental.AUTOTUNE)\n",
        "tf_dataset_test = tf_dataset_test.shuffle(buffer_size=buffer_size).batch(batch_size)"
      ]
    },
    {
      "cell_type": "markdown",
      "metadata": {
        "id": "1mUybMEZq8Fn"
      },
      "source": [
        "## Transfer Learning"
      ]
    },
    {
      "cell_type": "code",
      "execution_count": 10,
      "metadata": {
        "id": "ln2kyu5uq8Fk"
      },
      "outputs": [],
      "source": [
        "from tensorflow.keras.applications import EfficientNetB0, ResNet50, VGG16\n",
        "from tensorflow.keras.layers import BatchNormalization, MaxPooling2D, Flatten, Dense, Dropout, GlobalAveragePooling2D\n",
        "from tensorflow.keras.layers.experimental.preprocessing import RandomFlip, RandomRotation, RandomZoom, RandomCrop, RandomContrast, RandomTranslation\n",
        "from tensorflow.keras.models import Sequential, Model\n",
        "from tensorflow.keras.optimizers import Adam\n",
        "from tensorflow.keras.regularizers import l2\n",
        "from tensorflow.keras.callbacks import ModelCheckpoint, EarlyStopping\n",
        "from tensorflow.keras.models import load_model\n",
        "import matplotlib.pyplot as plt"
      ]
    },
    {
      "cell_type": "markdown",
      "metadata": {
        "id": "66CzXogIq8Fk"
      },
      "source": [
        "### Data Augmentation"
      ]
    },
    {
      "cell_type": "code",
      "execution_count": 6,
      "metadata": {
        "id": "TucX8TfXq8Fl"
      },
      "outputs": [],
      "source": [
        "# Function to apply the data augmentation to a single image\n",
        "def data_augmentation(image, label):\n",
        "    # Data augmentation operations\n",
        "    image = tf.image.random_flip_left_right(image)\n",
        "    image = tf.image.random_flip_up_down(image)\n",
        "    image = tf.image.random_brightness(image, max_delta=0.1) # Random brightness\n",
        "    image = tf.image.random_contrast(image, lower=0.8, upper=1.2) # Random contrast\n",
        "    image = tf.image.random_saturation(image, lower=0.8, upper=1.2) # Random saturation\n",
        "    image = tf.image.random_hue(image, max_delta=0.1) # Random hue\n",
        "    return image, label\n",
        "\n",
        "# Apply the data augmentation to the training dataset\n",
        "tf_dataset_train = tf_dataset_train.map(data_augmentation)"
      ]
    },
    {
      "cell_type": "markdown",
      "metadata": {
        "id": "kIPpaKGDq8Fl"
      },
      "source": [
        "### Construct Model"
      ]
    },
    {
      "cell_type": "code",
      "execution_count": 7,
      "metadata": {
        "colab": {
          "base_uri": "https://localhost:8080/"
        },
        "id": "6dGUjLNfnGRW",
        "outputId": "bcbc391c-0c1c-4626-b0d3-0f34db3bc2de"
      },
      "outputs": [
        {
          "name": "stdout",
          "output_type": "stream",
          "text": [
            "Downloading data from https://storage.googleapis.com/tensorflow/keras-applications/vgg16/vgg16_weights_tf_dim_ordering_tf_kernels_notop.h5\n",
            "58889256/58889256 [==============================] - 2s 0us/step\n"
          ]
        }
      ],
      "source": [
        "# Create the base model from the pre-trained models\n",
        "IMG_SHAPE = (299, 299, 3)\n",
        "# base_model_1 = EfficientNetB0(input_shape=IMG_SHAPE,\n",
        "#                             include_top=False,\n",
        "#                             weights='imagenet')\n",
        "# base_model_2 = ResNet50(input_shape=IMG_SHAPE,\n",
        "#                       include_top=False,\n",
        "#                       weights='imagenet')\n",
        "base_model_3 = VGG16(input_shape=IMG_SHAPE,\n",
        "                    include_top=False,\n",
        "                    weights='imagenet')"
      ]
    },
    {
      "cell_type": "code",
      "execution_count": 9,
      "metadata": {
        "id": "Rwz0C5u3ph6D"
      },
      "outputs": [],
      "source": [
        "# Freeze all layers before the last layer\n",
        "for layer in base_model_3.layers:\n",
        "    layer.trainable = False"
      ]
    },
    {
      "cell_type": "code",
      "execution_count": 11,
      "metadata": {
        "id": "4XDLx8Pi4ibt"
      },
      "outputs": [],
      "source": [
        "# Add new top layers\n",
        "x = base_model_3.output\n",
        "x = GlobalAveragePooling2D()(x)\n",
        "x = Dense(1024, activation='relu')(x)\n",
        "x = BatchNormalization()(x)\n",
        "x = Dropout(0.3)(x)\n",
        "predictions = Dense(2, activation='softmax')(x)\n",
        "\n",
        "# Define the new model\n",
        "model = Model(inputs=base_model_3.input, outputs=predictions)"
      ]
    },
    {
      "cell_type": "code",
      "execution_count": 12,
      "metadata": {
        "id": "nj_Zl80Pq8Fm"
      },
      "outputs": [],
      "source": [
        "# Compile the model\n",
        "model.compile(optimizer=Adam(),\\\n",
        "              loss=tf.keras.losses.SparseCategoricalCrossentropy(),\\\n",
        "              metrics=['accuracy'])"
      ]
    },
    {
      "cell_type": "markdown",
      "metadata": {
        "id": "I5xeJGEeq8Fm"
      },
      "source": [
        "### Train Model"
      ]
    },
    {
      "cell_type": "code",
      "execution_count": 13,
      "metadata": {
        "colab": {
          "base_uri": "https://localhost:8080/"
        },
        "id": "0vgTZ3lbq8Fm",
        "outputId": "727b618c-bf73-4e33-b38a-8ff753776507"
      },
      "outputs": [
        {
          "name": "stdout",
          "output_type": "stream",
          "text": [
            "Epoch 1/15\n",
            "2214/2214 [==============================] - ETA: 0s - loss: 0.2186 - accuracy: 0.9181\n",
            "Epoch 1: val_loss improved from inf to 0.56026, saving model to ./drive/MyDrive/Colab Notebooks/models/vgg_model.weights.best.hdf5\n"
          ]
        },
        {
          "name": "stderr",
          "output_type": "stream",
          "text": [
            "/usr/local/lib/python3.10/dist-packages/keras/src/engine/training.py:3079: UserWarning: You are saving your model as an HDF5 file via `model.save()`. This file format is considered legacy. We recommend using instead the native Keras format, e.g. `model.save('my_model.keras')`.\n",
            "  saving_api.save_model(\n"
          ]
        },
        {
          "name": "stdout",
          "output_type": "stream",
          "text": [
            "\b\b\b\b\b\b\b\b\b\b\b\b\b\b\b\b\b\b\b\b\b\b\b\b\b\b\b\b\b\b\b\b\b\b\b\b\b\b\b\b\b\b\b\b\b\b\b\b\b\b\b\b\b\b\b\b\b\b\b\b\b\b\b\b\b\b\b\b\b\b\b\b\b\b\b\b\b\b\b\b\b\b\b\b\b\b\r2214/2214 [==============================] - 1087s 485ms/step - loss: 0.2186 - accuracy: 0.9181 - val_loss: 0.5603 - val_accuracy: 0.7958\n",
            "Epoch 2/15\n",
            "2212/2214 [============================>.] - ETA: 0s - loss: 0.1706 - accuracy: 0.9386\n",
            "Epoch 2: val_loss improved from 0.56026 to 0.44133, saving model to ./drive/MyDrive/Colab Notebooks/models/vgg_model.weights.best.hdf5\n",
            "2214/2214 [==============================] - 171s 77ms/step - loss: 0.1706 - accuracy: 0.9386 - val_loss: 0.4413 - val_accuracy: 0.8327\n",
            "Epoch 3/15\n",
            "2212/2214 [============================>.] - ETA: 0s - loss: 0.1580 - accuracy: 0.9423\n",
            "Epoch 3: val_loss did not improve from 0.44133\n",
            "2214/2214 [==============================] - 170s 77ms/step - loss: 0.1581 - accuracy: 0.9422 - val_loss: 0.4945 - val_accuracy: 0.7943\n",
            "Epoch 4/15\n",
            "2212/2214 [============================>.] - ETA: 0s - loss: 0.1380 - accuracy: 0.9502\n",
            "Epoch 4: val_loss did not improve from 0.44133\n",
            "2214/2214 [==============================] - 169s 76ms/step - loss: 0.1380 - accuracy: 0.9502 - val_loss: 0.7354 - val_accuracy: 0.7684\n",
            "Epoch 5/15\n",
            "2213/2214 [============================>.] - ETA: 0s - loss: 0.1460 - accuracy: 0.9472\n",
            "Epoch 5: val_loss did not improve from 0.44133\n",
            "2214/2214 [==============================] - 170s 77ms/step - loss: 0.1460 - accuracy: 0.9472 - val_loss: 0.5568 - val_accuracy: 0.7948\n",
            "Epoch 6/15\n",
            "2214/2214 [==============================] - ETA: 0s - loss: 0.1267 - accuracy: 0.9533\n",
            "Epoch 6: val_loss did not improve from 0.44133\n",
            "2214/2214 [==============================] - 169s 76ms/step - loss: 0.1267 - accuracy: 0.9533 - val_loss: 0.7730 - val_accuracy: 0.7475\n",
            "Epoch 7/15\n",
            "2214/2214 [==============================] - ETA: 0s - loss: 0.1253 - accuracy: 0.9556\n",
            "Epoch 7: val_loss did not improve from 0.44133\n",
            "2214/2214 [==============================] - 172s 78ms/step - loss: 0.1253 - accuracy: 0.9556 - val_loss: 0.5059 - val_accuracy: 0.8170\n",
            "Epoch 8/15\n",
            "2212/2214 [============================>.] - ETA: 0s - loss: 0.1229 - accuracy: 0.9565\n",
            "Epoch 8: val_loss did not improve from 0.44133\n",
            "2214/2214 [==============================] - 169s 76ms/step - loss: 0.1228 - accuracy: 0.9566 - val_loss: 0.5763 - val_accuracy: 0.7947\n",
            "Epoch 9/15\n",
            "2212/2214 [============================>.] - ETA: 0s - loss: 0.1146 - accuracy: 0.9595\n",
            "Epoch 9: val_loss did not improve from 0.44133\n",
            "2214/2214 [==============================] - 169s 76ms/step - loss: 0.1147 - accuracy: 0.9594 - val_loss: 0.5551 - val_accuracy: 0.8041\n",
            "Epoch 10/15\n",
            "2214/2214 [==============================] - ETA: 0s - loss: 0.1119 - accuracy: 0.9594\n",
            "Epoch 10: val_loss did not improve from 0.44133\n",
            "2214/2214 [==============================] - 169s 76ms/step - loss: 0.1119 - accuracy: 0.9594 - val_loss: 0.5090 - val_accuracy: 0.7998\n",
            "Epoch 11/15\n",
            "2212/2214 [============================>.] - ETA: 0s - loss: 0.1154 - accuracy: 0.9580\n",
            "Epoch 11: val_loss did not improve from 0.44133\n",
            "2214/2214 [==============================] - 170s 76ms/step - loss: 0.1154 - accuracy: 0.9579 - val_loss: 0.4706 - val_accuracy: 0.8193\n",
            "Epoch 12/15\n",
            "2214/2214 [==============================] - ETA: 0s - loss: 0.1069 - accuracy: 0.9621\n",
            "Epoch 12: val_loss did not improve from 0.44133\n",
            "2214/2214 [==============================] - 170s 77ms/step - loss: 0.1069 - accuracy: 0.9621 - val_loss: 0.4599 - val_accuracy: 0.8268\n"
          ]
        }
      ],
      "source": [
        "# Callback for early stopping\n",
        "early_stopping = EarlyStopping(monitor='val_loss', patience=10, restore_best_weights=True)\n",
        "\n",
        "# ModelCheckpoint to save the best model\n",
        "# model_weights_path = './drive/MyDrive/Colab Notebooks/models/vgg_model.weights.best.hdf5'\n",
        "model_weights_path = '../models/vgg_model.weights.best.hdf5'\n",
        "checkpoint = ModelCheckpoint(model_weights_path,\n",
        "                             monitor='val_loss',\n",
        "                             verbose=1,\n",
        "                             save_best_only=True,\n",
        "                             mode='min')\n",
        "\n",
        "# Train the model\n",
        "with tf.device('/device:GPU:0'):\n",
        "    history = model.fit(\n",
        "        tf_dataset_train,\n",
        "        epochs=15,\n",
        "        validation_data=tf_dataset_val,\n",
        "        callbacks=[checkpoint, early_stopping]\n",
        "    )\n",
        "\n",
        "# history = model.fit(\n",
        "#     tf_dataset_train,\n",
        "#     epochs=15,\n",
        "#     validation_data=tf_dataset_val,\n",
        "#     callbacks=[checkpoint, early_stopping]\n",
        "# )"
      ]
    },
    {
      "cell_type": "code",
      "execution_count": 14,
      "metadata": {
        "colab": {
          "base_uri": "https://localhost:8080/",
          "height": 468
        },
        "id": "jyS2qy5Nq8Fn",
        "outputId": "71d13043-76a1-482b-baea-71c827f3604f"
      },
      "outputs": [
        {
          "data": {
            "image/png": "[encoded data removed]",
            "text/plain": [
              "<Figure size 1200x500 with 2 Axes>"
            ]
          },
          "metadata": {},
          "output_type": "display_data"
        }
      ],
      "source": [
        "# Plot the training and validation loss\n",
        "plt.figure(figsize=(12, 5))\n",
        "plt.subplot(1, 2, 1)\n",
        "plt.plot(history.history['loss'], label='Training Loss')\n",
        "plt.plot(history.history['val_loss'], label='Validation Loss')\n",
        "plt.title('Training and Validation Loss')\n",
        "plt.legend()\n",
        "\n",
        "# Plot the training and validation accuracy\n",
        "plt.subplot(1, 2, 2)\n",
        "plt.plot(history.history['accuracy'], label='Training Accuracy')\n",
        "plt.plot(history.history['val_accuracy'], label='Validation Accuracy')\n",
        "plt.title('Training and Validation Accuracy')\n",
        "plt.legend()\n",
        "\n",
        "plt.show()"
      ]
    },
    {
      "cell_type": "markdown",
      "metadata": {
        "id": "VtZC6nm8Ro49"
      },
      "source": [
        "## Evaluate Model"
      ]
    },
    {
      "cell_type": "code",
      "execution_count": 19,
      "metadata": {
        "colab": {
          "base_uri": "https://localhost:8080/"
        },
        "id": "jf6tdeDwC8Hm",
        "outputId": "de63a08c-a7b0-451d-e6d8-59904ed277ab"
      },
      "outputs": [
        {
          "name": "stdout",
          "output_type": "stream",
          "text": [
            "Training Set:\n",
            "2214/2214 [==============================] - 141s 64ms/step - loss: 0.0668 - accuracy: 0.9783\n",
            "Loss:0.06682372838258743, Accuracy: 0.9783124327659607\n",
            "Validation Set:\n",
            "756/756 [==============================] - 35s 46ms/step - loss: 0.4413 - accuracy: 0.8327\n",
            "Loss:0.4413326382637024, Accuracy: 0.8327266573905945\n",
            "ZTest Set:\n",
            "985/985 [==============================] - 45s 46ms/step - loss: 0.1838 - accuracy: 0.9466\n",
            "Loss:0.18384423851966858, Accuracy: 0.9465736150741577\n"
          ]
        }
      ],
      "source": [
        "# Print model evaluation\n",
        "print(\"Training Set:\")\n",
        "training_loss, training_accuracy = model.evaluate(tf_dataset_train)\n",
        "print(f\"Loss:{training_loss}, Accuracy: {training_accuracy}\")\n",
        "print(\"Validation Set:\")\n",
        "val_loss, val_accuracy = model.evaluate(tf_dataset_val)\n",
        "print(f\"Loss:{val_loss}, Accuracy: {val_accuracy}\")\n",
        "print(\"ZTest Set:\")\n",
        "test_loss, test_accuracy = model.evaluate(tf_dataset_test)\n",
        "print(f\"Loss:{test_loss}, Accuracy: {test_accuracy}\")"
      ]
    },
    {
      "cell_type": "code",
      "execution_count": 15,
      "metadata": {
        "colab": {
          "base_uri": "https://localhost:8080/"
        },
        "id": "PfzHVM66q8Fn",
        "outputId": "05d58994-76e2-4aea-df70-4db80f0d3318"
      },
      "outputs": [
        {
          "name": "stdout",
          "output_type": "stream",
          "text": [
            "Training Set:\n",
            "2214/2214 [==============================] - 137s 62ms/step\n",
            "              precision    recall  f1-score   support\n",
            "\n",
            "  Background       0.40      0.40      0.40      7047\n",
            "       Frost       0.60      0.60      0.60     10659\n",
            "\n",
            "    accuracy                           0.52     17706\n",
            "   macro avg       0.50      0.50      0.50     17706\n",
            "weighted avg       0.52      0.52      0.52     17706\n",
            "\n",
            "Validation Set:\n",
            "756/756 [==============================] - 33s 44ms/step\n",
            "              precision    recall  f1-score   support\n",
            "\n",
            "  Background       0.64      0.54      0.59      3890\n",
            "       Frost       0.35      0.45      0.40      2154\n",
            "\n",
            "    accuracy                           0.51      6044\n",
            "   macro avg       0.50      0.50      0.49      6044\n",
            "weighted avg       0.54      0.51      0.52      6044\n",
            "\n",
            "Test Set:\n",
            "985/985 [==============================] - 341s 342ms/step\n",
            "              precision    recall  f1-score   support\n",
            "\n",
            "  Background       0.39      0.42      0.41      3012\n",
            "       Frost       0.62      0.60      0.61      4868\n",
            "\n",
            "    accuracy                           0.53      7880\n",
            "   macro avg       0.51      0.51      0.51      7880\n",
            "weighted avg       0.54      0.53      0.53      7880\n",
            "\n"
          ]
        }
      ],
      "source": [
        "import pandas as pd\n",
        "from sklearn.metrics import classification_report\n",
        "\n",
        "def report_pred_results(model, dataset):\n",
        "    y_pred = np.argmax(model.predict(dataset), axis=1)\n",
        "\n",
        "    y_actual = np.concatenate([y for x, y in dataset], axis=0)\n",
        "\n",
        "    print(classification_report(y_actual, y_pred, target_names=['Background', 'Frost']))\n",
        "\n",
        "# model.load_weights('../models/vgg_model.weights.best.hdf5')\n",
        "# model.load_weights('./drive/MyDrive/Colab Notebooks/models/vgg_model.weights.best.hdf5')\n",
        "print(\"Training Set:\")\n",
        "report_pred_results(model, tf_dataset_train)\n",
        "print(\"Validation Set:\")\n",
        "report_pred_results(model, tf_dataset_val)\n",
        "print(\"Test Set:\")\n",
        "report_pred_results(model, tf_dataset_test)"
      ]
    },
    {
      "cell_type": "code",
      "execution_count": 17,
      "metadata": {
        "id": "47wY9LteAHTd"
      },
      "outputs": [],
      "source": [
        "# Save model\n",
        "model.save('../models/best_vgg_model.keras')\n",
        "# model.save('./drive/MyDrive/Colab Notebooks/models/best_vgg_model.keras')"
      ]
    }
  ],
  "metadata": {
    "accelerator": "GPU",
    "colab": {
      "gpuType": "V100",
      "machine_shape": "hm",
      "provenance": []
    },
    "kernelspec": {
      "display_name": "Python 3",
      "name": "python3"
    },
    "language_info": {
      "codemirror_mode": {
        "name": "ipython",
        "version": 3
      },
      "file_extension": ".py",
      "mimetype": "text/x-python",
      "name": "python",
      "nbconvert_exporter": "python",
      "pygments_lexer": "ipython3",
      "version": "3.7.3"
    },
    "toc": {
      "base_numbering": 1,
      "nav_menu": {},
      "number_sections": true,
      "sideBar": true,
      "skip_h1_title": false,
      "title_cell": "Table of Contents",
      "title_sidebar": "Contents",
      "toc_cell": false,
      "toc_position": {},
      "toc_section_display": true,
      "toc_window_display": false
    }
  },
  "nbformat": 4,
  "nbformat_minor": 0
}
