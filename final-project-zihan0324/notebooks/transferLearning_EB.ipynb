{
  "cells": [
    {
      "cell_type": "markdown",
      "metadata": {
        "id": "AuXOo53Bq8Fb"
      },
      "source": [
        "# Liu_Zihan_Final_Project"
      ]
    },
    {
      "cell_type": "markdown",
      "source": [
        "Name: Zihan Liu\n",
        "<br>\n",
        "Github Username: zihan0324\n",
        "<br>\n",
        "USC ID: 1534981630"
      ],
      "metadata": {
        "id": "PvXJWrkFHcvR"
      }
    },
    {
      "cell_type": "markdown",
      "metadata": {
        "id": "HWJv5uTqq8Fe"
      },
      "source": [
        "## Import Depedencies"
      ]
    },
    {
      "cell_type": "code",
      "execution_count": 1,
      "metadata": {
        "id": "wiJDLkD5q8Fe"
      },
      "outputs": [],
      "source": [
        "import os\n",
        "import os.path as op\n",
        "import json\n",
        "from pathlib import Path\n",
        "import shutil\n",
        "import logging\n",
        "import numpy as np\n",
        "from tqdm import tqdm\n",
        "from skimage import io\n"
      ]
    },
    {
      "cell_type": "code",
      "execution_count": 2,
      "metadata": {
        "id": "nKcGqYzdq8Fg",
        "colab": {
          "base_uri": "https://localhost:8080/"
        },
        "outputId": "cd5a608c-cf31-4b7c-ca8d-c581e7221026"
      },
      "outputs": [
        {
          "output_type": "stream",
          "name": "stdout",
          "text": [
            "Mounted at /content/drive\n"
          ]
        }
      ],
      "source": [
        "# Logging configuration\n",
        "logging.basicConfig(level=logging.INFO,\n",
        "                    datefmt='%H:%M:%S',\n",
        "                    format='%(asctime)s | %(levelname)-5s | %(module)-15s | %(message)s')\n",
        "\n",
        "IMAGE_SIZE = (299, 299)  # All images contained in this dataset are 299x299 (originally, to match Inception v3 input size)\n",
        "SEED = 17\n",
        "\n",
        "\n",
        "# from google.colab import drive\n",
        "# drive.mount('/content/drive')\n",
        "# data_head_dir = Path('./drive/MyDrive/Colab Notebooks/data')\n",
        "\n",
        "# Head directory containing all image subframes. Update with the relative path of your data directory\n",
        "data_head_dir = Path('../data')\n",
        "\n",
        "# Find all subframe directories\n",
        "subdirs = [Path(subdir.stem) for subdir in data_head_dir.iterdir() if subdir.is_dir()]\n",
        "src_image_ids = ['_'.join(a_path.name.split('_')[:3]) for a_path in subdirs]"
      ]
    },
    {
      "cell_type": "code",
      "execution_count": 3,
      "metadata": {
        "id": "p7VC13QPq8Fg"
      },
      "outputs": [],
      "source": [
        "# Load train/val/test subframe IDs\n",
        "def load_text_ids(file_path):\n",
        "    \"\"\"Simple helper to load all lines from a text file\"\"\"\n",
        "    with open(file_path, 'r') as f:\n",
        "        lines = [line.strip() for line in f.readlines()]\n",
        "    return lines\n",
        "\n",
        "# Load the subframe names for the three data subsets\n",
        "# train_ids = load_text_ids('./drive/MyDrive/Colab Notebooks/train_source_images.txt')\n",
        "# validate_ids = load_text_ids('./drive/MyDrive/Colab Notebooks/val_source_images.txt')\n",
        "# test_ids = load_text_ids('./drive/MyDrive/Colab Notebooks/test_source_images.txt')\n",
        "\n",
        "train_ids = load_text_ids('../train_source_images.txt')\n",
        "validate_ids = load_text_ids('../val_source_images.txt')\n",
        "test_ids = load_text_ids('../test_source_images.txt')\n",
        "\n",
        "# Generate a list containing the dataset split for the matching subdirectory names\n",
        "subdir_splits = []\n",
        "for src_id in src_image_ids:\n",
        "    if src_id in train_ids:\n",
        "        subdir_splits.append('train')\n",
        "    elif src_id in validate_ids:\n",
        "        subdir_splits.append('validate')\n",
        "    elif(src_id in test_ids):\n",
        "        subdir_splits.append('test')\n",
        "    else:\n",
        "        logging.warning(f'{src_id}: Did not find designated split in train/validate/test list.')\n",
        "        subdir_splits.append(None)"
      ]
    },
    {
      "cell_type": "markdown",
      "metadata": {
        "id": "YiR8RQGWq8Fh"
      },
      "source": [
        "## Loading and pre processing the data"
      ]
    },
    {
      "cell_type": "markdown",
      "metadata": {
        "id": "sr9kzkeZq8Fh"
      },
      "source": [
        "### Note that there are multiple ways to preprocess and load your data in order to train your model in tensorflow. We have provided one way to do it in the following cell. Feel free to use your own method and get better results."
      ]
    },
    {
      "cell_type": "code",
      "execution_count": 4,
      "metadata": {
        "id": "A1Us5JKJq8Fi"
      },
      "outputs": [],
      "source": [
        "import random\n",
        "import tensorflow as tf\n",
        "from PIL import Image\n",
        "\n",
        "\n",
        "def load_and_preprocess(img_loc, label):\n",
        "\n",
        "    def _inner_function(img_loc, label):\n",
        "\n",
        "        # Convert tensor to native type\n",
        "        img_loc_str = img_loc.numpy().decode('utf-8')\n",
        "        label_str = label.numpy().decode('utf-8')\n",
        "\n",
        "        img = Image.open(img_loc_str).convert('RGB')\n",
        "\n",
        "        return img, 1 if label_str=='frost' else 0\n",
        "\n",
        "    # Wrap the Python function\n",
        "    X, y = tf.py_function(_inner_function, [img_loc, label], [tf.float32, tf.int64])\n",
        "\n",
        "    # Set the shape of the tensors\n",
        "    X.set_shape([299, 299, 3])\n",
        "    y.set_shape([])\n",
        "\n",
        "    return X, y\n",
        "\n",
        "def load_subdir_data(dir_path, image_size, seed=None):\n",
        "\n",
        "    \"\"\"Helper to create a TF dataset from each image subdirectory\"\"\"\n",
        "\n",
        "    # Grab only the classes that (1) we want to keep and (2) exist in this directory\n",
        "    tile_dir = dir_path / Path('tiles')\n",
        "    label_dir = dir_path /Path('labels')\n",
        "\n",
        "    loc_list = []\n",
        "\n",
        "    for folder in os.listdir(tile_dir):\n",
        "        if os.path.isdir(os.path.join(tile_dir, folder)):\n",
        "            for file in os.listdir(os.path.join(tile_dir, folder)):\n",
        "                if file.endswith(\".png\"):\n",
        "                    loc_list.append((os.path.join(os.path.join(tile_dir, folder), file), folder))\n",
        "\n",
        "    return loc_list\n",
        "\n",
        "# Loop over all subframes, loading each into a list\n",
        "tf_data_train, tf_data_test, tf_data_val = [], [], []\n",
        "tf_dataset_train, tf_dataset_test, tf_dataset_val = [], [], []\n",
        "\n",
        "# Update the batch and buffer size as per your model requirements\n",
        "buffer_size = 64\n",
        "batch_size = 8\n",
        "\n",
        "for subdir, split in zip(subdirs, subdir_splits):\n",
        "    full_path = data_head_dir / subdir\n",
        "    if split=='validate':\n",
        "        tf_data_val.extend(load_subdir_data(full_path, IMAGE_SIZE, SEED))\n",
        "    elif split=='train':\n",
        "        tf_data_train.extend(load_subdir_data(full_path, IMAGE_SIZE, SEED))\n",
        "    elif split=='test':\n",
        "        tf_data_test.extend(load_subdir_data(full_path, IMAGE_SIZE, SEED))\n",
        "\n",
        "random.shuffle(tf_data_train)\n",
        "img_list, label_list = zip(*tf_data_train)\n",
        "img_list_t = tf.convert_to_tensor(img_list)\n",
        "lb_list_t = tf.convert_to_tensor(label_list)\n",
        "\n",
        "tf_dataset_train = tf.data.Dataset.from_tensor_slices((img_list_t, lb_list_t))\n",
        "tf_dataset_train = tf_dataset_train.map(load_and_preprocess, num_parallel_calls=tf.data.experimental.AUTOTUNE)\n",
        "tf_dataset_train = tf_dataset_train.shuffle(buffer_size=buffer_size).batch(batch_size)\n",
        "\n",
        "random.shuffle(tf_data_val)\n",
        "img_list, label_list = zip(*tf_data_val)\n",
        "img_list_t = tf.convert_to_tensor(img_list)\n",
        "lb_list_t = tf.convert_to_tensor(label_list)\n",
        "\n",
        "tf_dataset_val = tf.data.Dataset.from_tensor_slices((img_list_t, lb_list_t))\n",
        "tf_dataset_val = tf_dataset_val.map(load_and_preprocess, num_parallel_calls=tf.data.experimental.AUTOTUNE)\n",
        "tf_dataset_val = tf_dataset_val.shuffle(buffer_size=buffer_size).batch(batch_size)\n",
        "\n",
        "random.shuffle(tf_data_test)\n",
        "img_list, label_list = zip(*tf_data_test)\n",
        "img_list_t = tf.convert_to_tensor(img_list)\n",
        "lb_list_t = tf.convert_to_tensor(label_list)\n",
        "\n",
        "tf_dataset_test = tf.data.Dataset.from_tensor_slices((img_list_t, lb_list_t))\n",
        "tf_dataset_test = tf_dataset_test.map(load_and_preprocess, num_parallel_calls=tf.data.experimental.AUTOTUNE)\n",
        "tf_dataset_test = tf_dataset_test.shuffle(buffer_size=buffer_size).batch(batch_size)"
      ]
    },
    {
      "cell_type": "markdown",
      "metadata": {
        "id": "1mUybMEZq8Fn"
      },
      "source": [
        "## Transfer Learning"
      ]
    },
    {
      "cell_type": "code",
      "execution_count": 5,
      "metadata": {
        "id": "ln2kyu5uq8Fk"
      },
      "outputs": [],
      "source": [
        "import keras\n",
        "from tensorflow.keras.applications import EfficientNetB0, ResNet50, VGG16\n",
        "from tensorflow.keras.layers import BatchNormalization, MaxPooling2D, Flatten, Dense, Activation, Dropout, GlobalAveragePooling2D\n",
        "from tensorflow.keras.layers.experimental.preprocessing import RandomFlip, RandomRotation, RandomZoom, RandomCrop, RandomContrast, RandomTranslation\n",
        "from tensorflow.keras.models import Sequential, Model\n",
        "from tensorflow.keras.optimizers import Adam\n",
        "from tensorflow.keras.regularizers import l2\n",
        "from tensorflow.keras.callbacks import ModelCheckpoint, EarlyStopping\n",
        "from tensorflow.keras.models import load_model\n",
        "from keras.preprocessing.image import ImageDataGenerator\n",
        "import matplotlib.pyplot as plt"
      ]
    },
    {
      "cell_type": "markdown",
      "metadata": {
        "id": "66CzXogIq8Fk"
      },
      "source": [
        "### Data Augmentation"
      ]
    },
    {
      "cell_type": "code",
      "execution_count": 6,
      "metadata": {
        "id": "TucX8TfXq8Fl"
      },
      "outputs": [],
      "source": [
        "# Function to apply the data augmentation to a single image\n",
        "def data_augmentation(image, label):\n",
        "    # Data augmentation operations\n",
        "    image = tf.image.random_flip_left_right(image)\n",
        "    image = tf.image.random_flip_up_down(image)\n",
        "    image = tf.image.random_brightness(image, max_delta=0.1) # Random brightness\n",
        "    image = tf.image.random_contrast(image, lower=0.8, upper=1.2) # Random contrast\n",
        "    image = tf.image.random_saturation(image, lower=0.8, upper=1.2) # Random saturation\n",
        "    image = tf.image.random_hue(image, max_delta=0.1) # Random hue\n",
        "    return image, label\n",
        "\n",
        "# Apply the data augmentation to the training dataset\n",
        "tf_dataset_train = tf_dataset_train.map(data_augmentation)"
      ]
    },
    {
      "cell_type": "markdown",
      "metadata": {
        "id": "kIPpaKGDq8Fl"
      },
      "source": [
        "### Construct Model"
      ]
    },
    {
      "cell_type": "code",
      "source": [
        "# Create the base model from the pre-trained models\n",
        "IMG_SHAPE = (299, 299, 3)\n",
        "base_model_1 = EfficientNetB0(input_shape=IMG_SHAPE,\n",
        "                            include_top=False,\n",
        "                            weights='imagenet')\n",
        "# base_model_2 = ResNet50(input_shape=IMG_SHAPE,\n",
        "#                       include_top=False,\n",
        "#                       weights='imagenet')\n",
        "# base_model_3 = VGG16(input_shape=IMG_SHAPE,\n",
        "#                     include_top=False,\n",
        "#                     weights='imagenet')"
      ],
      "metadata": {
        "colab": {
          "base_uri": "https://localhost:8080/"
        },
        "id": "6dGUjLNfnGRW",
        "outputId": "7e91c42f-0d93-4800-903a-591e65ada8c8"
      },
      "execution_count": 7,
      "outputs": [
        {
          "output_type": "stream",
          "name": "stdout",
          "text": [
            "Downloading data from https://storage.googleapis.com/keras-applications/efficientnetb0_notop.h5\n",
            "16705208/16705208 [==============================] - 0s 0us/step\n"
          ]
        }
      ]
    },
    {
      "cell_type": "code",
      "source": [
        "# Freeze all layers before the last layer\n",
        "for layer in base_model_1.layers:\n",
        "    layer.trainable = False"
      ],
      "metadata": {
        "id": "Rwz0C5u3ph6D"
      },
      "execution_count": 8,
      "outputs": []
    },
    {
      "cell_type": "code",
      "source": [
        "# Add new top layers\n",
        "x = base_model_1.output\n",
        "x = GlobalAveragePooling2D()(x)\n",
        "x = Dense(1024, activation='relu')(x)\n",
        "x = BatchNormalization()(x)\n",
        "x = Dropout(0.3)(x)\n",
        "predictions = Dense(2, activation='softmax')(x)\n",
        "\n",
        "# Define the new model\n",
        "model = Model(inputs=base_model_1.input, outputs=predictions)"
      ],
      "metadata": {
        "id": "4XDLx8Pi4ibt"
      },
      "execution_count": 9,
      "outputs": []
    },
    {
      "cell_type": "code",
      "execution_count": 10,
      "metadata": {
        "id": "nj_Zl80Pq8Fm"
      },
      "outputs": [],
      "source": [
        "# Compile the model\n",
        "model.compile(optimizer=Adam(learning_rate=1e-5),\\\n",
        "              loss=tf.keras.losses.SparseCategoricalCrossentropy(),\\\n",
        "              metrics=['accuracy'])"
      ]
    },
    {
      "cell_type": "markdown",
      "metadata": {
        "id": "I5xeJGEeq8Fm"
      },
      "source": [
        "### Train Model"
      ]
    },
    {
      "cell_type": "code",
      "execution_count": null,
      "metadata": {
        "id": "0vgTZ3lbq8Fm",
        "outputId": "f1f90f4b-59bf-4817-f0b5-01e6477a84c8",
        "colab": {
          "base_uri": "https://localhost:8080/"
        }
      },
      "outputs": [
        {
          "output_type": "stream",
          "name": "stdout",
          "text": [
            "Epoch 1/15\n",
            "2212/2214 [============================>.] - ETA: 0s - loss: 0.3175 - accuracy: 0.8653\n",
            "Epoch 1: val_loss improved from inf to 0.30661, saving model to ./drive/MyDrive/Colab Notebooks/models/eb_model.weights.best.hdf5\n",
            "2214/2214 [==============================] - 98s 41ms/step - loss: 0.3176 - accuracy: 0.8654 - val_loss: 0.3066 - val_accuracy: 0.8701\n",
            "Epoch 2/15\n",
            "2212/2214 [============================>.] - ETA: 0s - loss: 0.1884 - accuracy: 0.9254\n",
            "Epoch 2: val_loss did not improve from 0.30661\n",
            "2214/2214 [==============================] - 89s 40ms/step - loss: 0.1884 - accuracy: 0.9254 - val_loss: 0.3450 - val_accuracy: 0.8638\n",
            "Epoch 3/15\n",
            "2211/2214 [============================>.] - ETA: 0s - loss: 0.1496 - accuracy: 0.9426\n",
            "Epoch 3: val_loss improved from 0.30661 to 0.27823, saving model to ./drive/MyDrive/Colab Notebooks/models/eb_model.weights.best.hdf5\n",
            "2214/2214 [==============================] - 90s 40ms/step - loss: 0.1495 - accuracy: 0.9426 - val_loss: 0.2782 - val_accuracy: 0.8804\n",
            "Epoch 4/15\n",
            "2212/2214 [============================>.] - ETA: 0s - loss: 0.1299 - accuracy: 0.9517\n",
            "Epoch 4: val_loss did not improve from 0.27823\n",
            "2214/2214 [==============================] - 89s 40ms/step - loss: 0.1300 - accuracy: 0.9517 - val_loss: 0.3254 - val_accuracy: 0.8680\n",
            "Epoch 5/15\n",
            "2211/2214 [============================>.] - ETA: 0s - loss: 0.1182 - accuracy: 0.9551\n",
            "Epoch 5: val_loss did not improve from 0.27823\n",
            "2214/2214 [==============================] - 88s 40ms/step - loss: 0.1182 - accuracy: 0.9551 - val_loss: 0.3324 - val_accuracy: 0.8650\n",
            "Epoch 6/15\n",
            "2211/2214 [============================>.] - ETA: 0s - loss: 0.1079 - accuracy: 0.9617\n",
            "Epoch 6: val_loss did not improve from 0.27823\n",
            "2214/2214 [==============================] - 88s 40ms/step - loss: 0.1079 - accuracy: 0.9617 - val_loss: 0.2799 - val_accuracy: 0.8858\n",
            "Epoch 7/15\n",
            "2211/2214 [============================>.] - ETA: 0s - loss: 0.1017 - accuracy: 0.9610\n",
            "Epoch 7: val_loss did not improve from 0.27823\n",
            "2214/2214 [==============================] - 88s 40ms/step - loss: 0.1017 - accuracy: 0.9611 - val_loss: 0.3382 - val_accuracy: 0.8657\n",
            "Epoch 8/15\n",
            "2211/2214 [============================>.] - ETA: 0s - loss: 0.0944 - accuracy: 0.9649\n",
            "Epoch 8: val_loss did not improve from 0.27823\n",
            "2214/2214 [==============================] - 88s 40ms/step - loss: 0.0944 - accuracy: 0.9649 - val_loss: 0.3436 - val_accuracy: 0.8657\n",
            "Epoch 9/15\n",
            "2212/2214 [============================>.] - ETA: 0s - loss: 0.0913 - accuracy: 0.9669\n",
            "Epoch 9: val_loss did not improve from 0.27823\n",
            "2214/2214 [==============================] - 88s 40ms/step - loss: 0.0912 - accuracy: 0.9669 - val_loss: 0.2931 - val_accuracy: 0.8807\n",
            "Epoch 10/15\n",
            "2212/2214 [============================>.] - ETA: 0s - loss: 0.0895 - accuracy: 0.9674\n",
            "Epoch 10: val_loss did not improve from 0.27823\n",
            "2214/2214 [==============================] - 88s 40ms/step - loss: 0.0894 - accuracy: 0.9674 - val_loss: 0.3561 - val_accuracy: 0.8552\n",
            "Epoch 11/15\n",
            "2211/2214 [============================>.] - ETA: 0s - loss: 0.0794 - accuracy: 0.9707\n",
            "Epoch 11: val_loss did not improve from 0.27823\n",
            "2214/2214 [==============================] - 89s 40ms/step - loss: 0.0794 - accuracy: 0.9707 - val_loss: 0.3599 - val_accuracy: 0.8595\n",
            "Epoch 12/15\n",
            "2212/2214 [============================>.] - ETA: 0s - loss: 0.0782 - accuracy: 0.9713\n",
            "Epoch 12: val_loss did not improve from 0.27823\n",
            "2214/2214 [==============================] - 88s 40ms/step - loss: 0.0782 - accuracy: 0.9714 - val_loss: 0.3394 - val_accuracy: 0.8700\n",
            "Epoch 13/15\n",
            "2211/2214 [============================>.] - ETA: 0s - loss: 0.0813 - accuracy: 0.9708\n",
            "Epoch 13: val_loss did not improve from 0.27823\n",
            "2214/2214 [==============================] - 88s 40ms/step - loss: 0.0814 - accuracy: 0.9707 - val_loss: 0.3456 - val_accuracy: 0.8645\n"
          ]
        }
      ],
      "source": [
        "# Callback for early stopping\n",
        "early_stopping = EarlyStopping(monitor='val_loss', patience=10, restore_best_weights=True)\n",
        "\n",
        "# ModelCheckpoint to save the best model\n",
        "# model_weights_path = './drive/MyDrive/Colab Notebooks/models/eb_model.weights.best.hdf5'\n",
        "model_weights_path = '../models/eb_model.weights.best.hdf5'\n",
        "checkpoint = ModelCheckpoint(model_weights_path,\n",
        "                             monitor='val_loss',\n",
        "                             verbose=1,\n",
        "                             save_best_only=True,\n",
        "                             mode='min',\n",
        "                             )\n",
        "\n",
        "# Train the model\n",
        "with tf.device('/device:GPU:0'):\n",
        "    history = model.fit(\n",
        "        tf_dataset_train,\n",
        "        epochs=15,\n",
        "        validation_data=tf_dataset_val,\n",
        "        callbacks=[checkpoint, early_stopping]\n",
        "    )\n",
        "# history = model_1.fit(\n",
        "#     tf_dataset_train,\n",
        "#     epochs=15,\n",
        "#     validation_data=tf_dataset_val,\n",
        "#     callbacks=[checkpoint, early_stopping]\n",
        "# )"
      ]
    },
    {
      "cell_type": "code",
      "execution_count": null,
      "metadata": {
        "id": "jyS2qy5Nq8Fn",
        "colab": {
          "base_uri": "https://localhost:8080/",
          "height": 468
        },
        "outputId": "c8e6a4d0-457e-4b85-f809-f272a8da5904"
      },
      "outputs": [
        {
          "output_type": "display_data",
          "data": {
            "text/plain": [
              "<Figure size 1200x500 with 2 Axes>"
            ],
            "image/png": "[encoded data removed]"
          },
          "metadata": {}
        }
      ],
      "source": [
        "# Plot the training and validation loss\n",
        "plt.figure(figsize=(12, 5))\n",
        "plt.subplot(1, 2, 1)\n",
        "plt.plot(history.history['loss'], label='Training Loss')\n",
        "plt.plot(history.history['val_loss'], label='Validation Loss')\n",
        "plt.title('Training and Validation Loss')\n",
        "plt.legend()\n",
        "\n",
        "# Plot the training and validation accuracy\n",
        "plt.subplot(1, 2, 2)\n",
        "plt.plot(history.history['accuracy'], label='Training Accuracy')\n",
        "plt.plot(history.history['val_accuracy'], label='Validation Accuracy')\n",
        "plt.title('Training and Validation Accuracy')\n",
        "plt.legend()\n",
        "\n",
        "plt.show()"
      ]
    },
    {
      "cell_type": "markdown",
      "source": [
        "## Evaluate Model"
      ],
      "metadata": {
        "id": "HGB5b3pL31kx"
      }
    },
    {
      "cell_type": "code",
      "source": [
        "# Print model evaluation\n",
        "print(\"Training Set:\")\n",
        "training_loss, training_accuracy = model.evaluate(tf_dataset_train)\n",
        "print(f\"Loss:{training_loss}, Accuracy: {training_accuracy}\")\n",
        "print(\"Validation Set:\")\n",
        "val_loss, val_accuracy = model.evaluate(tf_dataset_val)\n",
        "print(f\"Loss:{val_loss}, Accuracy: {val_accuracy}\")\n",
        "print(\"ZTest Set:\")\n",
        "test_loss, test_accuracy = model.evaluate(tf_dataset_test)\n",
        "print(f\"Loss:{test_loss}, Accuracy: {test_accuracy}\")"
      ],
      "metadata": {
        "colab": {
          "base_uri": "https://localhost:8080/"
        },
        "id": "VQBvgk9NIrnd",
        "outputId": "5e4596ef-2562-4561-9914-41fc0e08d8f4"
      },
      "execution_count": 11,
      "outputs": [
        {
          "output_type": "stream",
          "name": "stdout",
          "text": [
            "Training Set:\n",
            "2214/2214 [==============================] - 554s 245ms/step - loss: 0.0432 - accuracy: 0.9863\n",
            "Loss:0.043234724551439285, Accuracy: 0.986275851726532\n",
            "Validation Set:\n",
            "756/756 [==============================] - 182s 239ms/step - loss: 0.2782 - accuracy: 0.8804\n",
            "Loss:0.2782328128814697, Accuracy: 0.8803772330284119\n",
            "ZTest Set:\n",
            "985/985 [==============================] - 233s 235ms/step - loss: 0.2026 - accuracy: 0.9250\n",
            "Loss:0.20261788368225098, Accuracy: 0.925000011920929\n"
          ]
        }
      ]
    },
    {
      "cell_type": "code",
      "execution_count": null,
      "metadata": {
        "id": "PfzHVM66q8Fn",
        "colab": {
          "base_uri": "https://localhost:8080/"
        },
        "outputId": "f7ae779b-c457-409f-a5d7-99596d427638"
      },
      "outputs": [
        {
          "output_type": "stream",
          "name": "stdout",
          "text": [
            "Training Set:\n",
            "2214/2214 [==============================] - 66s 29ms/step\n",
            "              precision    recall  f1-score   support\n",
            "\n",
            "  Background       0.40      0.39      0.40      7047\n",
            "       Frost       0.60      0.61      0.61     10659\n",
            "\n",
            "    accuracy                           0.52     17706\n",
            "   macro avg       0.50      0.50      0.50     17706\n",
            "weighted avg       0.52      0.52      0.52     17706\n",
            "\n",
            "Validation Set:\n",
            "756/756 [==============================] - 22s 29ms/step\n",
            "              precision    recall  f1-score   support\n",
            "\n",
            "  Background       0.65      0.58      0.61      3890\n",
            "       Frost       0.37      0.44      0.40      2154\n",
            "\n",
            "    accuracy                           0.53      6044\n",
            "   macro avg       0.51      0.51      0.51      6044\n",
            "weighted avg       0.55      0.53      0.54      6044\n",
            "\n",
            "Test Set:\n",
            "985/985 [==============================] - 232s 234ms/step\n",
            "              precision    recall  f1-score   support\n",
            "\n",
            "  Background       0.39      0.37      0.38      3012\n",
            "       Frost       0.62      0.65      0.64      4868\n",
            "\n",
            "    accuracy                           0.54      7880\n",
            "   macro avg       0.51      0.51      0.51      7880\n",
            "weighted avg       0.53      0.54      0.54      7880\n",
            "\n"
          ]
        }
      ],
      "source": [
        "import pandas as pd\n",
        "from sklearn.metrics import classification_report\n",
        "\n",
        "def report_pred_results(model, dataset):\n",
        "    y_pred = np.argmax(model.predict(dataset), axis=1)\n",
        "\n",
        "    y_actual = np.concatenate([y for x, y in dataset], axis=0)\n",
        "\n",
        "    print(classification_report(y_actual, y_pred, target_names=['Background', 'Frost']))\n",
        "\n",
        "# model.load_weights('../models/eb_model.weights.best.hdf5')\n",
        "# model.load_weights('./drive/MyDrive/Colab Notebooks/models/eb_model.weights.best.hdf5')\n",
        "print(\"Training Set:\")\n",
        "report_pred_results(model, tf_dataset_train)\n",
        "print(\"Validation Set:\")\n",
        "report_pred_results(model, tf_dataset_val)\n",
        "print(\"Test Set:\")\n",
        "report_pred_results(model, tf_dataset_test)"
      ]
    },
    {
      "cell_type": "code",
      "source": [
        "# Save model\n",
        "# model.save('./drive/MyDrive/Colab Notebooks/models/best_eb_mode.keras')\n",
        "model.save('../models/best_eb_mode.keras')"
      ],
      "metadata": {
        "id": "AWtlsFOBX3Ml"
      },
      "execution_count": 13,
      "outputs": []
    },
    {
      "cell_type": "code",
      "source": [],
      "metadata": {
        "id": "5eAXN2BbKBe7"
      },
      "execution_count": null,
      "outputs": []
    }
  ],
  "metadata": {
    "kernelspec": {
      "display_name": "Python 3",
      "name": "python3"
    },
    "language_info": {
      "codemirror_mode": {
        "name": "ipython",
        "version": 3
      },
      "file_extension": ".py",
      "mimetype": "text/x-python",
      "name": "python",
      "nbconvert_exporter": "python",
      "pygments_lexer": "ipython3",
      "version": "3.7.3"
    },
    "toc": {
      "base_numbering": 1,
      "nav_menu": {},
      "number_sections": true,
      "sideBar": true,
      "skip_h1_title": false,
      "title_cell": "Table of Contents",
      "title_sidebar": "Contents",
      "toc_cell": false,
      "toc_position": {},
      "toc_section_display": true,
      "toc_window_display": false
    },
    "colab": {
      "provenance": [],
      "gpuType": "T4",
      "machine_shape": "hm"
    },
    "accelerator": "GPU"
  },
  "nbformat": 4,
  "nbformat_minor": 0
}