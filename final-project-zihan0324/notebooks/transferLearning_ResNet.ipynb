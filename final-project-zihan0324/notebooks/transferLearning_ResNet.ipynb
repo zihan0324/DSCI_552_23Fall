{
  "cells": [
    {
      "cell_type": "markdown",
      "metadata": {
        "id": "AuXOo53Bq8Fb"
      },
      "source": [
        "# Liu_Zihan_Final_Project"
      ]
    },
    {
      "cell_type": "markdown",
      "metadata": {},
      "source": [
        "Name: Zihan Liu\n",
        "<br>\n",
        "Github Username: zihan0324\n",
        "<br>\n",
        "USC ID: 1534981630"
      ]
    },
    {
      "cell_type": "markdown",
      "metadata": {
        "id": "HWJv5uTqq8Fe"
      },
      "source": [
        "## Import Depedencies"
      ]
    },
    {
      "cell_type": "code",
      "execution_count": 2,
      "metadata": {
        "id": "wiJDLkD5q8Fe"
      },
      "outputs": [],
      "source": [
        "import os\n",
        "import os.path as op\n",
        "import json\n",
        "from pathlib import Path\n",
        "import shutil\n",
        "import logging\n",
        "import numpy as np\n",
        "from tqdm import tqdm\n",
        "from skimage import io\n"
      ]
    },
    {
      "cell_type": "code",
      "execution_count": 3,
      "metadata": {
        "colab": {
          "base_uri": "https://localhost:8080/"
        },
        "id": "nKcGqYzdq8Fg",
        "outputId": "d80f7abe-2d97-48b7-a5ec-e2b1cb7af525"
      },
      "outputs": [
        {
          "name": "stdout",
          "output_type": "stream",
          "text": [
            "Mounted at /content/drive\n"
          ]
        }
      ],
      "source": [
        "# Logging configuration\n",
        "logging.basicConfig(level=logging.INFO,\n",
        "                    datefmt='%H:%M:%S',\n",
        "                    format='%(asctime)s | %(levelname)-5s | %(module)-15s | %(message)s')\n",
        "\n",
        "IMAGE_SIZE = (299, 299)  # All images contained in this dataset are 299x299 (originally, to match Inception v3 input size)\n",
        "SEED = 17\n",
        "\n",
        "'''Code for running on colab\n",
        "from google.colab import drive\n",
        "drive.mount('/content/drive')\n",
        "data_head_dir = Path('./drive/MyDrive/Colab Notebooks/data')\n",
        "'''\n",
        "\n",
        "# Head directory containing all image subframes. Update with the relative path of your data directory\n",
        "data_head_dir = Path('../data')\n",
        "\n",
        "# Find all subframe directories\n",
        "subdirs = [Path(subdir.stem) for subdir in data_head_dir.iterdir() if subdir.is_dir()]\n",
        "src_image_ids = ['_'.join(a_path.name.split('_')[:3]) for a_path in subdirs]"
      ]
    },
    {
      "cell_type": "code",
      "execution_count": 4,
      "metadata": {
        "id": "p7VC13QPq8Fg"
      },
      "outputs": [],
      "source": [
        "# Load train/val/test subframe IDs\n",
        "def load_text_ids(file_path):\n",
        "    \"\"\"Simple helper to load all lines from a text file\"\"\"\n",
        "    with open(file_path, 'r') as f:\n",
        "        lines = [line.strip() for line in f.readlines()]\n",
        "    return lines\n",
        "\n",
        "# Load the subframe names for the three data subsets\n",
        "# train_ids = load_text_ids('./drive/MyDrive/Colab Notebooks/train_source_images.txt')\n",
        "# validate_ids = load_text_ids('./drive/MyDrive/Colab Notebooks/val_source_images.txt')\n",
        "# test_ids = load_text_ids('./drive/MyDrive/Colab Notebooks/test_source_images.txt')\n",
        "\n",
        "train_ids = load_text_ids('../train_source_images.txt')\n",
        "validate_ids = load_text_ids('../val_source_images.txt')\n",
        "test_ids = load_text_ids('../test_source_images.txt')\n",
        "\n",
        "# Generate a list containing the dataset split for the matching subdirectory names\n",
        "subdir_splits = []\n",
        "for src_id in src_image_ids:\n",
        "    if src_id in train_ids:\n",
        "        subdir_splits.append('train')\n",
        "    elif src_id in validate_ids:\n",
        "        subdir_splits.append('validate')\n",
        "    elif(src_id in test_ids):\n",
        "        subdir_splits.append('test')\n",
        "    else:\n",
        "        logging.warning(f'{src_id}: Did not find designated split in train/validate/test list.')\n",
        "        subdir_splits.append(None)"
      ]
    },
    {
      "cell_type": "markdown",
      "metadata": {
        "id": "YiR8RQGWq8Fh"
      },
      "source": [
        "## Loading and pre processing the data"
      ]
    },
    {
      "cell_type": "markdown",
      "metadata": {
        "id": "sr9kzkeZq8Fh"
      },
      "source": [
        "### Note that there are multiple ways to preprocess and load your data in order to train your model in tensorflow. We have provided one way to do it in the following cell. Feel free to use your own method and get better results."
      ]
    },
    {
      "cell_type": "code",
      "execution_count": 16,
      "metadata": {
        "id": "A1Us5JKJq8Fi"
      },
      "outputs": [],
      "source": [
        "import random\n",
        "import tensorflow as tf\n",
        "from PIL import Image\n",
        "\n",
        "\n",
        "def load_and_preprocess(img_loc, label):\n",
        "\n",
        "    def _inner_function(img_loc, label):\n",
        "\n",
        "        # Convert tensor to native type\n",
        "        img_loc_str = img_loc.numpy().decode('utf-8')\n",
        "        label_str = label.numpy().decode('utf-8')\n",
        "\n",
        "        img = Image.open(img_loc_str).convert('RGB')\n",
        "\n",
        "        return img, 1 if label_str=='frost' else 0\n",
        "\n",
        "    # Wrap the Python function\n",
        "    X, y = tf.py_function(_inner_function, [img_loc, label], [tf.float32, tf.int64])\n",
        "\n",
        "    # Set the shape of the tensors\n",
        "    X.set_shape([299, 299, 3])\n",
        "    y.set_shape([])\n",
        "\n",
        "    return X, y\n",
        "\n",
        "def load_subdir_data(dir_path, image_size, seed=None):\n",
        "\n",
        "    \"\"\"Helper to create a TF dataset from each image subdirectory\"\"\"\n",
        "\n",
        "    # Grab only the classes that (1) we want to keep and (2) exist in this directory\n",
        "    tile_dir = dir_path / Path('tiles')\n",
        "    label_dir = dir_path /Path('labels')\n",
        "\n",
        "    loc_list = []\n",
        "\n",
        "    for folder in os.listdir(tile_dir):\n",
        "        if os.path.isdir(os.path.join(tile_dir, folder)):\n",
        "            for file in os.listdir(os.path.join(tile_dir, folder)):\n",
        "                if file.endswith(\".png\"):\n",
        "                    loc_list.append((os.path.join(os.path.join(tile_dir, folder), file), folder))\n",
        "\n",
        "    return loc_list\n",
        "\n",
        "# Loop over all subframes, loading each into a list\n",
        "tf_data_train, tf_data_test, tf_data_val = [], [], []\n",
        "tf_dataset_train, tf_dataset_test, tf_dataset_val = [], [], []\n",
        "\n",
        "# Update the batch and buffer size as per your model requirements\n",
        "buffer_size = 64\n",
        "batch_size = 8\n",
        "\n",
        "for subdir, split in zip(subdirs, subdir_splits):\n",
        "    full_path = data_head_dir / subdir\n",
        "    if split=='validate':\n",
        "        tf_data_val.extend(load_subdir_data(full_path, IMAGE_SIZE, SEED))\n",
        "    elif split=='train':\n",
        "        tf_data_train.extend(load_subdir_data(full_path, IMAGE_SIZE, SEED))\n",
        "    elif split=='test':\n",
        "        tf_data_test.extend(load_subdir_data(full_path, IMAGE_SIZE, SEED))\n",
        "\n",
        "random.shuffle(tf_data_train)\n",
        "img_list, label_list = zip(*tf_data_train)\n",
        "img_list_t = tf.convert_to_tensor(img_list)\n",
        "lb_list_t = tf.convert_to_tensor(label_list)\n",
        "\n",
        "tf_dataset_train = tf.data.Dataset.from_tensor_slices((img_list_t, lb_list_t))\n",
        "tf_dataset_train = tf_dataset_train.map(load_and_preprocess, num_parallel_calls=tf.data.experimental.AUTOTUNE)\n",
        "tf_dataset_train = tf_dataset_train.shuffle(buffer_size=buffer_size).batch(batch_size)\n",
        "\n",
        "random.shuffle(tf_data_val)\n",
        "img_list, label_list = zip(*tf_data_val)\n",
        "img_list_t = tf.convert_to_tensor(img_list)\n",
        "lb_list_t = tf.convert_to_tensor(label_list)\n",
        "\n",
        "tf_dataset_val = tf.data.Dataset.from_tensor_slices((img_list_t, lb_list_t))\n",
        "tf_dataset_val = tf_dataset_val.map(load_and_preprocess, num_parallel_calls=tf.data.experimental.AUTOTUNE)\n",
        "tf_dataset_val = tf_dataset_val.shuffle(buffer_size=buffer_size).batch(batch_size)\n",
        "\n",
        "random.shuffle(tf_data_test)\n",
        "img_list, label_list = zip(*tf_data_test)\n",
        "img_list_t = tf.convert_to_tensor(img_list)\n",
        "lb_list_t = tf.convert_to_tensor(label_list)\n",
        "\n",
        "tf_dataset_test = tf.data.Dataset.from_tensor_slices((img_list_t, lb_list_t))\n",
        "tf_dataset_test = tf_dataset_test.map(load_and_preprocess, num_parallel_calls=tf.data.experimental.AUTOTUNE)\n",
        "tf_dataset_test = tf_dataset_test.shuffle(buffer_size=buffer_size).batch(batch_size)"
      ]
    },
    {
      "cell_type": "markdown",
      "metadata": {
        "id": "1mUybMEZq8Fn"
      },
      "source": [
        "## Transfer Learning"
      ]
    },
    {
      "cell_type": "code",
      "execution_count": 17,
      "metadata": {
        "id": "ln2kyu5uq8Fk"
      },
      "outputs": [],
      "source": [
        "import keras\n",
        "from tensorflow.keras.applications import EfficientNetB0, ResNet50, VGG16\n",
        "from tensorflow.keras.layers import BatchNormalization, MaxPooling2D, Flatten, Dense, Activation, Dropout, GlobalAveragePooling2D\n",
        "from tensorflow.keras.models import Sequential, Model\n",
        "from tensorflow.keras.optimizers import Adam\n",
        "from tensorflow.keras.regularizers import l2\n",
        "from tensorflow.keras.callbacks import ModelCheckpoint, EarlyStopping\n",
        "from tensorflow.keras.models import load_model\n",
        "from keras.preprocessing.image import ImageDataGenerator\n",
        "import matplotlib.pyplot as plt"
      ]
    },
    {
      "cell_type": "markdown",
      "metadata": {
        "id": "66CzXogIq8Fk"
      },
      "source": [
        "### Data Augmentation"
      ]
    },
    {
      "cell_type": "code",
      "execution_count": 18,
      "metadata": {
        "id": "TucX8TfXq8Fl"
      },
      "outputs": [],
      "source": [
        "# Function to apply the data augmentation to a single image\n",
        "def data_augmentation(image, label):\n",
        "    # Data augmentation operations\n",
        "    image = tf.image.random_flip_left_right(image)\n",
        "    image = tf.image.random_flip_up_down(image)\n",
        "    image = tf.image.random_brightness(image, max_delta=0.1) # Random brightness\n",
        "    image = tf.image.random_contrast(image, lower=0.8, upper=1.2) # Random contrast\n",
        "    image = tf.image.random_saturation(image, lower=0.8, upper=1.2) # Random saturation\n",
        "    image = tf.image.random_hue(image, max_delta=0.1) # Random hue\n",
        "    return image, label\n",
        "\n",
        "# Apply the data augmentation to the training dataset\n",
        "tf_dataset_train = tf_dataset_train.map(data_augmentation)"
      ]
    },
    {
      "cell_type": "markdown",
      "metadata": {
        "id": "kIPpaKGDq8Fl"
      },
      "source": [
        "### Construct Model"
      ]
    },
    {
      "cell_type": "code",
      "execution_count": 19,
      "metadata": {
        "id": "6dGUjLNfnGRW"
      },
      "outputs": [],
      "source": [
        "# Create the base model from the pre-trained models\n",
        "IMG_SHAPE = (299, 299, 3)\n",
        "# base_model_1 = EfficientNetB0(input_shape=IMG_SHAPE,\n",
        "#                             include_top=False,\n",
        "#                             weights='imagenet')\n",
        "base_model_2 = ResNet50(input_shape=IMG_SHAPE,\n",
        "                      include_top=False,\n",
        "                      weights='imagenet')\n",
        "# base_model_3 = VGG16(input_shape=IMG_SHAPE,\n",
        "#                     include_top=False,\n",
        "#                     weights='imagenet')"
      ]
    },
    {
      "cell_type": "code",
      "execution_count": 20,
      "metadata": {
        "id": "Rwz0C5u3ph6D"
      },
      "outputs": [],
      "source": [
        "# Freeze all layers before the last layer\n",
        "for layer in base_model_2.layers:\n",
        "    layer.trainable = False"
      ]
    },
    {
      "cell_type": "code",
      "execution_count": 21,
      "metadata": {
        "id": "4XDLx8Pi4ibt"
      },
      "outputs": [],
      "source": [
        "# Add new top layers\n",
        "x = base_model_2.output\n",
        "x = GlobalAveragePooling2D()(x)\n",
        "x = Dense(256, activation='relu')(x)\n",
        "x = BatchNormalization()(x)\n",
        "x = Dropout(0.3)(x)\n",
        "predictions = Dense(2, activation='softmax')(x)\n",
        "\n",
        "# Define the new model\n",
        "model = Model(inputs=base_model_2.input, outputs=predictions)"
      ]
    },
    {
      "cell_type": "code",
      "execution_count": 22,
      "metadata": {
        "id": "nj_Zl80Pq8Fm"
      },
      "outputs": [],
      "source": [
        "# Compile the model\n",
        "model.compile(optimizer=Adam(learning_rate=0.0001),\\\n",
        "              loss=tf.keras.losses.SparseCategoricalCrossentropy(),\\\n",
        "              metrics=['accuracy'])"
      ]
    },
    {
      "cell_type": "markdown",
      "metadata": {
        "id": "I5xeJGEeq8Fm"
      },
      "source": [
        "### Train Model"
      ]
    },
    {
      "cell_type": "code",
      "execution_count": 23,
      "metadata": {
        "colab": {
          "base_uri": "https://localhost:8080/"
        },
        "id": "0vgTZ3lbq8Fm",
        "outputId": "d0940f5d-72ec-45be-f931-bffa213d5392"
      },
      "outputs": [
        {
          "name": "stdout",
          "output_type": "stream",
          "text": [
            "Epoch 1/15\n",
            "2213/2214 [============================>.] - ETA: 0s - loss: 0.1991 - accuracy: 0.9201\n",
            "Epoch 1: val_loss improved from inf to 0.36892, saving model to ./drive/MyDrive/Colab Notebooks/models/rn_model.weights.best.hdf5\n"
          ]
        },
        {
          "name": "stderr",
          "output_type": "stream",
          "text": [
            "/usr/local/lib/python3.10/dist-packages/keras/src/engine/training.py:3079: UserWarning: You are saving your model as an HDF5 file via `model.save()`. This file format is considered legacy. We recommend using instead the native Keras format, e.g. `model.save('my_model.keras')`.\n",
            "  saving_api.save_model(\n"
          ]
        },
        {
          "name": "stdout",
          "output_type": "stream",
          "text": [
            "2214/2214 [==============================] - 332s 147ms/step - loss: 0.1991 - accuracy: 0.9201 - val_loss: 0.3689 - val_accuracy: 0.8342\n",
            "Epoch 2/15\n",
            "2213/2214 [============================>.] - ETA: 0s - loss: 0.1156 - accuracy: 0.9566\n",
            "Epoch 2: val_loss did not improve from 0.36892\n",
            "2214/2214 [==============================] - 327s 147ms/step - loss: 0.1158 - accuracy: 0.9565 - val_loss: 0.4299 - val_accuracy: 0.8154\n",
            "Epoch 3/15\n",
            "2213/2214 [============================>.] - ETA: 0s - loss: 0.0972 - accuracy: 0.9641\n",
            "Epoch 3: val_loss improved from 0.36892 to 0.32618, saving model to ./drive/MyDrive/Colab Notebooks/models/rn_model.weights.best.hdf5\n",
            "2214/2214 [==============================] - 331s 149ms/step - loss: 0.0975 - accuracy: 0.9640 - val_loss: 0.3262 - val_accuracy: 0.8700\n",
            "Epoch 4/15\n",
            "2213/2214 [============================>.] - ETA: 0s - loss: 0.0909 - accuracy: 0.9672\n",
            "Epoch 4: val_loss did not improve from 0.32618\n",
            "2214/2214 [==============================] - 322s 145ms/step - loss: 0.0911 - accuracy: 0.9671 - val_loss: 0.3623 - val_accuracy: 0.8570\n",
            "Epoch 5/15\n",
            "2213/2214 [============================>.] - ETA: 0s - loss: 0.0815 - accuracy: 0.9711\n",
            "Epoch 5: val_loss did not improve from 0.32618\n",
            "2214/2214 [==============================] - 328s 148ms/step - loss: 0.0815 - accuracy: 0.9711 - val_loss: 0.3689 - val_accuracy: 0.8562\n",
            "Epoch 6/15\n",
            "2213/2214 [============================>.] - ETA: 0s - loss: 0.0782 - accuracy: 0.9727\n",
            "Epoch 6: val_loss improved from 0.32618 to 0.30088, saving model to ./drive/MyDrive/Colab Notebooks/models/rn_model.weights.best.hdf5\n",
            "2214/2214 [==============================] - 325s 147ms/step - loss: 0.0782 - accuracy: 0.9727 - val_loss: 0.3009 - val_accuracy: 0.8681\n",
            "Epoch 7/15\n",
            "2213/2214 [============================>.] - ETA: 0s - loss: 0.0762 - accuracy: 0.9735\n",
            "Epoch 7: val_loss improved from 0.30088 to 0.25525, saving model to ./drive/MyDrive/Colab Notebooks/models/rn_model.weights.best.hdf5\n",
            "2214/2214 [==============================] - 329s 148ms/step - loss: 0.0762 - accuracy: 0.9735 - val_loss: 0.2552 - val_accuracy: 0.9039\n",
            "Epoch 8/15\n",
            "2213/2214 [============================>.] - ETA: 0s - loss: 0.0724 - accuracy: 0.9731\n",
            "Epoch 8: val_loss did not improve from 0.25525\n",
            "2214/2214 [==============================] - 322s 145ms/step - loss: 0.0725 - accuracy: 0.9731 - val_loss: 0.4053 - val_accuracy: 0.8382\n",
            "Epoch 9/15\n",
            "2213/2214 [============================>.] - ETA: 0s - loss: 0.0683 - accuracy: 0.9753\n",
            "Epoch 9: val_loss did not improve from 0.25525\n",
            "2214/2214 [==============================] - 325s 147ms/step - loss: 0.0683 - accuracy: 0.9753 - val_loss: 0.2756 - val_accuracy: 0.8931\n",
            "Epoch 10/15\n",
            "2213/2214 [============================>.] - ETA: 0s - loss: 0.0615 - accuracy: 0.9772\n",
            "Epoch 10: val_loss did not improve from 0.25525\n",
            "2214/2214 [==============================] - 322s 145ms/step - loss: 0.0615 - accuracy: 0.9772 - val_loss: 0.2654 - val_accuracy: 0.9019\n",
            "Epoch 11/15\n",
            "2213/2214 [============================>.] - ETA: 0s - loss: 0.0620 - accuracy: 0.9785\n",
            "Epoch 11: val_loss did not improve from 0.25525\n",
            "2214/2214 [==============================] - 323s 146ms/step - loss: 0.0620 - accuracy: 0.9785 - val_loss: 0.3162 - val_accuracy: 0.8812\n",
            "Epoch 12/15\n",
            "2213/2214 [============================>.] - ETA: 0s - loss: 0.0608 - accuracy: 0.9779\n",
            "Epoch 12: val_loss improved from 0.25525 to 0.19344, saving model to ./drive/MyDrive/Colab Notebooks/models/rn_model.weights.best.hdf5\n",
            "2214/2214 [==============================] - 345s 156ms/step - loss: 0.0610 - accuracy: 0.9778 - val_loss: 0.1934 - val_accuracy: 0.9131\n",
            "Epoch 13/15\n",
            "2213/2214 [============================>.] - ETA: 0s - loss: 0.0587 - accuracy: 0.9788\n",
            "Epoch 13: val_loss did not improve from 0.19344\n",
            "2214/2214 [==============================] - 350s 158ms/step - loss: 0.0587 - accuracy: 0.9788 - val_loss: 0.2259 - val_accuracy: 0.9130\n",
            "Epoch 14/15\n",
            "2213/2214 [============================>.] - ETA: 0s - loss: 0.0651 - accuracy: 0.9768\n",
            "Epoch 14: val_loss did not improve from 0.19344\n",
            "2214/2214 [==============================] - 318s 144ms/step - loss: 0.0651 - accuracy: 0.9768 - val_loss: 0.3152 - val_accuracy: 0.8683\n",
            "Epoch 15/15\n",
            "2213/2214 [============================>.] - ETA: 0s - loss: 0.0538 - accuracy: 0.9809\n",
            "Epoch 15: val_loss did not improve from 0.19344\n",
            "2214/2214 [==============================] - 327s 147ms/step - loss: 0.0538 - accuracy: 0.9809 - val_loss: 0.3471 - val_accuracy: 0.8670\n"
          ]
        }
      ],
      "source": [
        "# Callback for early stopping\n",
        "early_stopping = EarlyStopping(monitor='val_loss', patience=5, restore_best_weights=True)\n",
        "\n",
        "# ModelCheckpoint to save the best model\n",
        "# model_weights_path = './drive/MyDrive/Colab Notebooks/models/rn_model.weights.best.hdf5'\n",
        "model_weights_path = '../models/rn_model.weights.best.hdf5'\n",
        "checkpoint = ModelCheckpoint(model_weights_path,\n",
        "                             monitor='val_loss',\n",
        "                             verbose=1,\n",
        "                             save_best_only=True,\n",
        "                             mode='min')\n",
        "\n",
        "# Train the model\n",
        "history = model.fit(\n",
        "    tf_dataset_train,\n",
        "    epochs=15,\n",
        "    validation_data=tf_dataset_val,\n",
        "    callbacks=[checkpoint, early_stopping]\n",
        ")"
      ]
    },
    {
      "cell_type": "code",
      "execution_count": 24,
      "metadata": {
        "colab": {
          "base_uri": "https://localhost:8080/",
          "height": 468
        },
        "id": "jyS2qy5Nq8Fn",
        "outputId": "b23192dc-79e2-4087-9161-76499429d694"
      },
      "outputs": [
        {
          "data": {
            "image/png": "[encoded data removed]",
            "text/plain": [
              "<Figure size 1200x500 with 2 Axes>"
            ]
          },
          "metadata": {},
          "output_type": "display_data"
        }
      ],
      "source": [
        "# Plot the training and validation loss\n",
        "plt.figure(figsize=(12, 5))\n",
        "plt.subplot(1, 2, 1)\n",
        "plt.plot(history.history['loss'], label='Training Loss')\n",
        "plt.plot(history.history['val_loss'], label='Validation Loss')\n",
        "plt.title('Training and Validation Loss')\n",
        "plt.legend()\n",
        "\n",
        "# Plot the training and validation accuracy\n",
        "plt.subplot(1, 2, 2)\n",
        "plt.plot(history.history['accuracy'], label='Training Accuracy')\n",
        "plt.plot(history.history['val_accuracy'], label='Validation Accuracy')\n",
        "plt.title('Training and Validation Accuracy')\n",
        "plt.legend()\n",
        "\n",
        "plt.show()"
      ]
    },
    {
      "cell_type": "markdown",
      "metadata": {
        "id": "e8E62dqrd2-i"
      },
      "source": [
        "## Evaluate Model"
      ]
    },
    {
      "cell_type": "code",
      "execution_count": 25,
      "metadata": {
        "colab": {
          "base_uri": "https://localhost:8080/"
        },
        "id": "PfzHVM66q8Fn",
        "outputId": "a33418f8-0671-4ca2-c34f-5803909169fb"
      },
      "outputs": [
        {
          "name": "stdout",
          "output_type": "stream",
          "text": [
            "Training Set:\n",
            "2214/2214 [==============================] - 260s 117ms/step\n",
            "              precision    recall  f1-score   support\n",
            "\n",
            "  Background       0.40      0.40      0.40      7047\n",
            "       Frost       0.61      0.60      0.60     10659\n",
            "\n",
            "    accuracy                           0.52     17706\n",
            "   macro avg       0.50      0.50      0.50     17706\n",
            "weighted avg       0.53      0.52      0.52     17706\n",
            "\n",
            "Validation Set:\n",
            "756/756 [==============================] - 61s 80ms/step\n",
            "              precision    recall  f1-score   support\n",
            "\n",
            "  Background       0.65      0.54      0.59      3890\n",
            "       Frost       0.36      0.48      0.41      2154\n",
            "\n",
            "    accuracy                           0.52      6044\n",
            "   macro avg       0.51      0.51      0.50      6044\n",
            "weighted avg       0.55      0.52      0.53      6044\n",
            "\n",
            "Test Set:\n",
            "985/985 [==============================] - 80s 80ms/step\n",
            "              precision    recall  f1-score   support\n",
            "\n",
            "  Background       0.39      0.36      0.37      3012\n",
            "       Frost       0.62      0.64      0.63      4868\n",
            "\n",
            "    accuracy                           0.54      7880\n",
            "   macro avg       0.50      0.50      0.50      7880\n",
            "weighted avg       0.53      0.54      0.53      7880\n",
            "\n"
          ]
        }
      ],
      "source": [
        "import pandas as pd\n",
        "from sklearn.metrics import classification_report\n",
        "\n",
        "def report_pred_results(model, dataset):\n",
        "    y_pred = np.argmax(model.predict(dataset), axis=1)\n",
        "\n",
        "    y_actual = np.concatenate([y for x, y in dataset], axis=0)\n",
        "\n",
        "    print(classification_report(y_actual, y_pred, target_names=['Background', 'Frost']))\n",
        "\n",
        "# model.load_weights('../models/rn_model.weights.best.hdf5')\n",
        "# model.load_weights('./drive/MyDrive/Colab Notebooks/models/rn_model.weights.best.hdf5')\n",
        "print(\"Training Set:\")\n",
        "report_pred_results(model, tf_dataset_train)\n",
        "print(\"Validation Set:\")\n",
        "report_pred_results(model, tf_dataset_val)\n",
        "print(\"Test Set:\")\n",
        "report_pred_results(model, tf_dataset_test)"
      ]
    },
    {
      "cell_type": "code",
      "execution_count": null,
      "metadata": {},
      "outputs": [],
      "source": [
        "# Save model\n",
        "# model.save('./drive/MyDrive/Colab Notebooks/models/best_rn_model.keras')\n",
        "model.save('../models/best_rn_model.keras')"
      ]
    }
  ],
  "metadata": {
    "accelerator": "GPU",
    "colab": {
      "gpuType": "T4",
      "provenance": []
    },
    "kernelspec": {
      "display_name": "Python 3",
      "name": "python3"
    },
    "language_info": {
      "codemirror_mode": {
        "name": "ipython",
        "version": 3
      },
      "file_extension": ".py",
      "mimetype": "text/x-python",
      "name": "python",
      "nbconvert_exporter": "python",
      "pygments_lexer": "ipython3",
      "version": "3.7.3"
    },
    "toc": {
      "base_numbering": 1,
      "nav_menu": {},
      "number_sections": true,
      "sideBar": true,
      "skip_h1_title": false,
      "title_cell": "Table of Contents",
      "title_sidebar": "Contents",
      "toc_cell": false,
      "toc_position": {},
      "toc_section_display": true,
      "toc_window_display": false
    }
  },
  "nbformat": 4,
  "nbformat_minor": 0
}
